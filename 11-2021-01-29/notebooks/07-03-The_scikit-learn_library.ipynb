{
 "cells": [
  {
   "cell_type": "markdown",
   "metadata": {
    "slideshow": {
     "slide_type": "-"
    }
   },
   "source": [
    "# The scikit-learn library"
   ]
  },
  {
   "cell_type": "markdown",
   "metadata": {
    "slideshow": {
     "slide_type": "-"
    }
   },
   "source": [
    "Scikit-learn is probably the most used Machine Learning Library in Python. It is built on NumPy, SciPy, and matplotlib. The library offers a simple and efficient tools for data mining and data analysis. Scikit-learn offers a consistent API across different model and applications and hence is one of the best tools in Python for shallow learning algorithms.  \n",
    " "
   ]
  },
  {
   "cell_type": "markdown",
   "metadata": {},
   "source": [
    "## Modeling pipeline in scikit learn \n",
    "\n",
    "* Loading The Data\n",
    "* Training And Test Data\n",
    "* Preprocessing The Data\n",
    "* Create the Model\n",
    "* Model Fitting\n",
    "* Prediction\n",
    "* Evaluate the Model's Performance\n",
    "* Tune the Model"
   ]
  },
  {
   "cell_type": "code",
   "execution_count": 2,
   "metadata": {},
   "outputs": [],
   "source": [
    "import numpy as np\n",
    "import pandas as pd\n",
    "import matplotlib.pyplot as plt\n",
    "import sklearn"
   ]
  },
  {
   "cell_type": "markdown",
   "metadata": {},
   "source": [
    "**Add the `src` directory as one where we can import modules**"
   ]
  },
  {
   "cell_type": "code",
   "execution_count": 3,
   "metadata": {},
   "outputs": [
    {
     "name": "stdout",
     "output_type": "stream",
     "text": [
      "/Users/jokr/Documents/workshops/Programing_with_Python_FU-Berlin_2019-20/python-FU-WiSe1920/09-2012-01-24/src\n"
     ]
    }
   ],
   "source": [
    "import os\n",
    "import sys\n",
    "\n",
    "# add the 'src' directory as one where we can import modules\n",
    "src_dir = os.path.abspath(os.path.join(os.getcwd(), os.pardir, 'src'))\n",
    "sys.path.append(src_dir)\n",
    "print(src_dir)"
   ]
  },
  {
   "cell_type": "code",
   "execution_count": 4,
   "metadata": {},
   "outputs": [],
   "source": [
    "import helper_funcs as hf"
   ]
  },
  {
   "cell_type": "markdown",
   "metadata": {},
   "source": [
    "## Loading The Data\n",
    "\n",
    "Your data needs to be numeric and stored as NumPy arrays or SciPy sparse matrices. Other types that are convertible to numeric arrays, such as Pandas `DataFrame`, are also acceptable."
   ]
  },
  {
   "cell_type": "markdown",
   "metadata": {},
   "source": [
    "**Data for a Machine Learning model may look like this...**"
   ]
  },
  {
   "cell_type": "code",
   "execution_count": 5,
   "metadata": {},
   "outputs": [
    {
     "name": "stdout",
     "output_type": "stream",
     "text": [
      "Features array: (10, 5)\n",
      " [[0.78327217 0.38623274 0.70112514 0.66821925 0.9685282 ]\n",
      " [0.74651716 0.         0.         0.         0.68152253]\n",
      " [0.51137914 0.95117526 0.83698498 0.53787218 0.33420662]\n",
      " [0.         0.         0.66595111 0.         0.        ]\n",
      " [0.         0.         0.         0.4327096  0.45461789]\n",
      " [0.34561987 0.82868502 0.94669316 0.40839844 0.4687897 ]\n",
      " [0.81302982 0.36838187 0.55093623 0.66720765 0.96719503]\n",
      " [0.         0.         0.77390694 0.         0.        ]\n",
      " [0.93991156 0.32775504 0.83982468 0.91734676 0.33000936]\n",
      " [0.         0.67962209 0.34057135 0.         0.47488416]]\n",
      "Labels: (10,)\n",
      " ['M' 'M' 'F' 'F' 'F' 'M' 'M' 'F' 'F' 'F']\n"
     ]
    }
   ],
   "source": [
    "import numpy as np\n",
    "X = np.random.random((10,5))\n",
    "X[X < 0.3] = 0\n",
    "print(\"Features array: {}\\n\".format(X.shape), X)\n",
    "y = np.array(['M','M','F','F','F','M','M','F','F','F'])\n",
    "print(\"Labels: {}\\n\".format(y.shape),y)"
   ]
  },
  {
   "cell_type": "markdown",
   "metadata": {},
   "source": [
    "Further scikit-learn provides a rich [dataset loading utilities](http://scikit-learn.org/stable/datasets/index.html). It comes with easy to load toy datasets, sample images and sample generators."
   ]
  },
  {
   "cell_type": "markdown",
   "metadata": {},
   "source": [
    "**Toy datasets:**\n",
    "\n",
    "Boston house-prices dataset (regression)\n",
    "\n",
    "    load_boston() \t\n",
    "    \n",
    "Iris dataset (classification)\n",
    "\n",
    "    load_iris()\n",
    "\n",
    "Diabetes dataset (regression)\n",
    "\n",
    "    load_diabetes() \n",
    "\n",
    "Digits dataset (classification)\n",
    "\n",
    "    load_digits()\n",
    "\n",
    "Linnerud dataset (multivariate regression) \n",
    "\n",
    "    load_linnerud()\n",
    " \n",
    "Wine dataset (classification)\n",
    "  \n",
    "    load_wine() \t\n",
    "\n",
    "Breast cancer wisconsin dataset (classification)\n",
    "  \n",
    "    load_breast_cancer() \t\n",
    "    "
   ]
  },
  {
   "cell_type": "code",
   "execution_count": 6,
   "metadata": {},
   "outputs": [],
   "source": [
    "from sklearn.datasets import load_boston\n",
    "ds = load_boston()"
   ]
  },
  {
   "cell_type": "code",
   "execution_count": 8,
   "metadata": {},
   "outputs": [
    {
     "name": "stdout",
     "output_type": "stream",
     "text": [
      ".. _boston_dataset:\n",
      "\n",
      "Boston house prices dataset\n",
      "---------------------------\n",
      "\n",
      "**Data Set Characteristics:**  \n",
      "\n",
      "    :Number of Instances: 506 \n",
      "\n",
      "    :Number of Attributes: 13 numeric/categorical predictive. Median Value (attribute 14) is usually the target.\n",
      "\n",
      "    :Attribute Information (in order):\n",
      "        - CRIM     per capita crime rate by town\n",
      "        - ZN       proportion of residential land zoned for lots over 25,000 sq.ft.\n",
      "        - INDUS    proportion of non-retail business acres per town\n",
      "        - CHAS     Charles River dummy variable (= 1 if tract bounds river; 0 otherwise)\n",
      "        - NOX      nitric oxides concentration (parts per 10 million)\n",
      "        - RM       average number of rooms per dwelling\n",
      "        - AGE      proportion of owner-occupied units built prior to 1940\n",
      "        - DIS      weighted distances to five Boston employment centres\n",
      "        - RAD      index of accessibility to radial highways\n",
      "        - TAX      full-value property-tax rate per $10,000\n",
      "        - PTRATIO  pupil-teacher ratio by town\n",
      "        - B        1000(Bk - 0.63)^2 where Bk is the proportion of blacks by town\n",
      "        - LSTAT    % lower status of the population\n",
      "        - MEDV     Median value of owner-occupied homes in $1000's\n",
      "\n",
      "    :Missing Attribute Values: None\n",
      "\n",
      "    :Creator: Harrison, D. and Rubinfeld, D.L.\n",
      "\n",
      "This is a copy of UCI ML housing dataset.\n",
      "https://archive.ics.uci.edu/ml/machine-learning-databases/housing/\n",
      "\n",
      "\n",
      "This dataset was taken from the StatLib library which is maintained at Carnegie Mellon University.\n",
      "\n",
      "The Boston house-price data of Harrison, D. and Rubinfeld, D.L. 'Hedonic\n",
      "prices and the demand for clean air', J. Environ. Economics & Management,\n",
      "vol.5, 81-102, 1978.   Used in Belsley, Kuh & Welsch, 'Regression diagnostics\n",
      "...', Wiley, 1980.   N.B. Various transformations are used in the table on\n",
      "pages 244-261 of the latter.\n",
      "\n",
      "The Boston house-price data has been used in many machine learning papers that address regression\n",
      "problems.   \n",
      "     \n",
      ".. topic:: References\n",
      "\n",
      "   - Belsley, Kuh & Welsch, 'Regression diagnostics: Identifying Influential Data and Sources of Collinearity', Wiley, 1980. 244-261.\n",
      "   - Quinlan,R. (1993). Combining Instance-Based and Model-Based Learning. In Proceedings on the Tenth International Conference of Machine Learning, 236-243, University of Massachusetts, Amherst. Morgan Kaufmann.\n",
      "\n"
     ]
    }
   ],
   "source": [
    "print(ds.DESCR)"
   ]
  },
  {
   "cell_type": "code",
   "execution_count": 9,
   "metadata": {},
   "outputs": [
    {
     "name": "stdout",
     "output_type": "stream",
     "text": [
      "Features array: (506, 13)\n",
      " [[6.3200e-03 1.8000e+01 2.3100e+00 ... 1.5300e+01 3.9690e+02 4.9800e+00]\n",
      " [2.7310e-02 0.0000e+00 7.0700e+00 ... 1.7800e+01 3.9690e+02 9.1400e+00]\n",
      " [2.7290e-02 0.0000e+00 7.0700e+00 ... 1.7800e+01 3.9283e+02 4.0300e+00]\n",
      " ...\n",
      " [6.0760e-02 0.0000e+00 1.1930e+01 ... 2.1000e+01 3.9690e+02 5.6400e+00]\n",
      " [1.0959e-01 0.0000e+00 1.1930e+01 ... 2.1000e+01 3.9345e+02 6.4800e+00]\n",
      " [4.7410e-02 0.0000e+00 1.1930e+01 ... 2.1000e+01 3.9690e+02 7.8800e+00]]\n",
      "Labels: (506,)\n",
      " ['M' 'M' 'F' 'F' 'F' 'M' 'M' 'F' 'F' 'F']\n"
     ]
    }
   ],
   "source": [
    "print(\"Features array: {}\\n\".format(ds.data.shape), ds.data)\n",
    "print(\"Labels: {}\\n\".format(ds.target.shape),y)"
   ]
  },
  {
   "cell_type": "markdown",
   "metadata": {},
   "source": [
    "**Sample generators:**"
   ]
  },
  {
   "cell_type": "code",
   "execution_count": 10,
   "metadata": {},
   "outputs": [],
   "source": [
    "from sklearn.datasets import make_classification\n",
    "X, y = make_classification(n_samples=25, n_features=2, n_redundant=0, \n",
    "                           n_informative=2, n_clusters_per_class=1, \n",
    "                           random_state=33)"
   ]
  },
  {
   "cell_type": "code",
   "execution_count": 11,
   "metadata": {},
   "outputs": [
    {
     "name": "stdout",
     "output_type": "stream",
     "text": [
      "Features array: (25, 2)\n",
      " [[ 0.84119533 -0.59034282]\n",
      " [ 0.30073529  1.32948683]\n",
      " [-0.35158507  0.72574001]\n",
      " [ 0.7203474  -0.57451647]\n",
      " [-1.91833439  2.08364911]\n",
      " [ 0.9030502   1.23783064]\n",
      " [-0.15302041  0.91097803]\n",
      " [ 1.44607025 -1.28411479]\n",
      " [-1.61288264 -0.64351396]\n",
      " [-0.9272653   0.24159894]\n",
      " [ 1.48322117  0.03325729]\n",
      " [-1.33804029  0.57162232]\n",
      " [-1.69935283  1.3004686 ]\n",
      " [-0.72134521  0.3439439 ]\n",
      " [ 0.2942302  -0.16300197]\n",
      " [-0.0526431   1.76285091]\n",
      " [-1.17874604 -0.62427607]\n",
      " [ 0.49636809  0.57330408]\n",
      " [ 0.93851305  0.34952606]\n",
      " [-0.16227224  0.42789673]\n",
      " [ 0.43508675 -1.94956553]\n",
      " [ 2.56176732 -1.68777497]\n",
      " [ 0.83080315  0.23559069]\n",
      " [ 1.19118673 -0.55582212]\n",
      " [-0.26748919  0.38544401]]\n",
      "Labels: (25,)\n",
      " [0 1 0 0 1 0 1 0 1 1 0 1 1 1 0 1 1 0 0 1 0 0 0 0 1]\n"
     ]
    }
   ],
   "source": [
    "print(\"Features array: {}\\n\".format(X.shape), X)\n",
    "print(\"Labels: {}\\n\".format(y.shape),y)"
   ]
  },
  {
   "cell_type": "code",
   "execution_count": 12,
   "metadata": {},
   "outputs": [
    {
     "data": {
      "image/png": "[encoded data removed]",
      "text/plain": [
       "<Figure size 432x288 with 1 Axes>"
      ]
     },
     "metadata": {
      "needs_background": "light"
     },
     "output_type": "display_data"
    }
   ],
   "source": [
    "fig, ax = plt.subplots()\n",
    "ax.scatter(X[:, 0], X[:, 1], marker='o', c=y, s=25, edgecolor='k');"
   ]
  },
  {
   "cell_type": "markdown",
   "metadata": {},
   "source": [
    "## Training And Test Data"
   ]
  },
  {
   "cell_type": "code",
   "execution_count": 13,
   "metadata": {},
   "outputs": [
    {
     "data": {
      "image/png": "[encoded data removed]",
      "text/plain": [
       "<Figure size 432x288 with 1 Axes>"
      ]
     },
     "metadata": {
      "needs_background": "light"
     },
     "output_type": "display_data"
    }
   ],
   "source": [
    "X, y = make_classification(n_samples=1000, n_features=2, n_redundant=0, \n",
    "                           n_informative=2, n_clusters_per_class=1, \n",
    "                           weights=[0.096], \n",
    "                           random_state=33)\n",
    "fig, ax = plt.subplots()\n",
    "ax.scatter(X[:, 0], X[:, 1], marker='o', c=y, s=25, edgecolor='k');"
   ]
  },
  {
   "cell_type": "code",
   "execution_count": 14,
   "metadata": {},
   "outputs": [
    {
     "data": {
      "text/plain": [
       "array([100, 900])"
      ]
     },
     "execution_count": 14,
     "metadata": {},
     "output_type": "execute_result"
    }
   ],
   "source": [
    "np.bincount(y)"
   ]
  },
  {
   "cell_type": "code",
   "execution_count": 15,
   "metadata": {},
   "outputs": [],
   "source": [
    "from sklearn.model_selection import train_test_split\n",
    "X_train, X_test, y_train, y_test = train_test_split(X, y, test_size=0.4,  \n",
    "                                                    shuffle=True, random_state=42)"
   ]
  },
  {
   "cell_type": "code",
   "execution_count": 16,
   "metadata": {},
   "outputs": [
    {
     "name": "stdout",
     "output_type": "stream",
     "text": [
      "Train set size: (600, 2) \n",
      "Test set size: (400, 2)\n"
     ]
    }
   ],
   "source": [
    "print(\"Train set size:\" , X_train.shape, \"\\nTest set size:\", X_test.shape)"
   ]
  },
  {
   "cell_type": "code",
   "execution_count": 17,
   "metadata": {},
   "outputs": [
    {
     "name": "stdout",
     "output_type": "stream",
     "text": [
      "Train label size: (600,) \n",
      "Test label size: (400,)\n"
     ]
    }
   ],
   "source": [
    "print(\"Train label size:\" , y_train.shape, \"\\nTest label size:\", y_test.shape)"
   ]
  },
  {
   "cell_type": "code",
   "execution_count": 18,
   "metadata": {},
   "outputs": [
    {
     "data": {
      "text/plain": [
       "1    542\n",
       "0     58\n",
       "dtype: int64"
      ]
     },
     "execution_count": 18,
     "metadata": {},
     "output_type": "execute_result"
    }
   ],
   "source": [
    "pd.Series(y_train).value_counts()"
   ]
  },
  {
   "cell_type": "code",
   "execution_count": 19,
   "metadata": {},
   "outputs": [
    {
     "data": {
      "text/plain": [
       "1    358\n",
       "0     42\n",
       "dtype: int64"
      ]
     },
     "execution_count": 19,
     "metadata": {},
     "output_type": "execute_result"
    }
   ],
   "source": [
    "pd.Series(y_test).value_counts()"
   ]
  },
  {
   "cell_type": "markdown",
   "metadata": {},
   "source": [
    "This `stratify` parameter makes a split so that the proportion of values in the sample produced will be the same as the proportion of values provided to parameter `stratify`. "
   ]
  },
  {
   "cell_type": "code",
   "execution_count": 20,
   "metadata": {},
   "outputs": [
    {
     "name": "stdout",
     "output_type": "stream",
     "text": [
      "1    540\n",
      "0     60\n",
      "dtype: int64\n",
      "1    360\n",
      "0     40\n",
      "dtype: int64\n"
     ]
    }
   ],
   "source": [
    "X_train, X_test, y_train, y_test = train_test_split(X, y, stratify=y,\n",
    "                                                    test_size=0.4, random_state=42)\n",
    "\n",
    "print(pd.Series(y_train).value_counts())\n",
    "print(pd.Series(y_test).value_counts())"
   ]
  },
  {
   "cell_type": "markdown",
   "metadata": {},
   "source": [
    "## Preprocessing The Data"
   ]
  },
  {
   "cell_type": "markdown",
   "metadata": {},
   "source": [
    "In general, __learning algorithms benefit from standardization of the data set__. The `sklearn.preprocessing` package provides several utility functions and transformer classes to change raw feature vectors.\n"
   ]
  },
  {
   "cell_type": "code",
   "execution_count": 21,
   "metadata": {},
   "outputs": [],
   "source": [
    "from sklearn import preprocessing"
   ]
  },
  {
   "cell_type": "code",
   "execution_count": 23,
   "metadata": {},
   "outputs": [
    {
     "data": {
      "text/plain": [
       "array([[ 1.74489551, -1.54301159],\n",
       "       [ 0.24207785, -1.17812327],\n",
       "       [ 2.37529913, -0.68162034],\n",
       "       ...,\n",
       "       [-0.72445138,  0.31908572],\n",
       "       [ 0.83947949, -1.75519201],\n",
       "       [ 1.63259471, -1.5227983 ]])"
      ]
     },
     "execution_count": 23,
     "metadata": {},
     "output_type": "execute_result"
    }
   ],
   "source": [
    "X_train = np.array([[ 1., -1.,  2.],\n",
    "                    [ 2.,  0.,  0.],\n",
    "                    [ 0.,  1., -1.]])\n",
    "X"
   ]
  },
  {
   "cell_type": "code",
   "execution_count": 24,
   "metadata": {},
   "outputs": [
    {
     "data": {
      "text/plain": [
       "StandardScaler(copy=True, with_mean=True, with_std=True)"
      ]
     },
     "execution_count": 24,
     "metadata": {},
     "output_type": "execute_result"
    }
   ],
   "source": [
    "scaler = preprocessing.StandardScaler()\n",
    "scaler"
   ]
  },
  {
   "cell_type": "code",
   "execution_count": 25,
   "metadata": {},
   "outputs": [
    {
     "data": {
      "text/plain": [
       "StandardScaler(copy=True, with_mean=True, with_std=True)"
      ]
     },
     "execution_count": 25,
     "metadata": {},
     "output_type": "execute_result"
    }
   ],
   "source": [
    "scaler.fit(X_train)"
   ]
  },
  {
   "cell_type": "code",
   "execution_count": 26,
   "metadata": {},
   "outputs": [
    {
     "data": {
      "text/plain": [
       "array([[ 0.        , -1.22474487,  1.33630621],\n",
       "       [ 1.22474487,  0.        , -0.26726124],\n",
       "       [-1.22474487,  1.22474487, -1.06904497]])"
      ]
     },
     "execution_count": 26,
     "metadata": {},
     "output_type": "execute_result"
    }
   ],
   "source": [
    "X_train_scaled = scaler.transform(X_train) \n",
    "X_train_scaled"
   ]
  },
  {
   "cell_type": "code",
   "execution_count": 27,
   "metadata": {},
   "outputs": [
    {
     "name": "stdout",
     "output_type": "stream",
     "text": [
      "Mean:  [0. 0. 0.]\n",
      "\n",
      "Standard deviation:  [1. 1. 1.]\n"
     ]
    }
   ],
   "source": [
    "print(\"Mean: \",np.mean(X_train_scaled, axis=0))\n",
    "print(\"\\nStandard deviation: \", np.std(X_train_scaled, axis=0))"
   ]
  },
  {
   "cell_type": "markdown",
   "metadata": {},
   "source": [
    "An alternative standardization is __aling features to lie between a given minimum and maximum value, often between zero and one, or so that the maximum absolute value of each feature is scaled to unit size__"
   ]
  },
  {
   "cell_type": "code",
   "execution_count": 28,
   "metadata": {},
   "outputs": [
    {
     "data": {
      "text/plain": [
       "array([[ 1., -1.,  2.],\n",
       "       [ 2.,  0.,  0.],\n",
       "       [ 0.,  1., -1.]])"
      ]
     },
     "execution_count": 28,
     "metadata": {},
     "output_type": "execute_result"
    }
   ],
   "source": [
    "X_train "
   ]
  },
  {
   "cell_type": "code",
   "execution_count": 29,
   "metadata": {},
   "outputs": [],
   "source": [
    "min_max_scaler = preprocessing.MinMaxScaler()"
   ]
  },
  {
   "cell_type": "code",
   "execution_count": 30,
   "metadata": {},
   "outputs": [
    {
     "data": {
      "text/plain": [
       "MinMaxScaler(copy=True, feature_range=(0, 1))"
      ]
     },
     "execution_count": 30,
     "metadata": {},
     "output_type": "execute_result"
    }
   ],
   "source": [
    "min_max_scaler.fit(X_train)"
   ]
  },
  {
   "cell_type": "code",
   "execution_count": 31,
   "metadata": {},
   "outputs": [
    {
     "data": {
      "text/plain": [
       "array([[0.5       , 0.        , 1.        ],\n",
       "       [1.        , 0.5       , 0.33333333],\n",
       "       [0.        , 1.        , 0.        ]])"
      ]
     },
     "execution_count": 31,
     "metadata": {},
     "output_type": "execute_result"
    }
   ],
   "source": [
    "X_train_scaled = min_max_scaler.transform(X_train) \n",
    "X_train_scaled"
   ]
  },
  {
   "cell_type": "code",
   "execution_count": 32,
   "metadata": {},
   "outputs": [
    {
     "name": "stdout",
     "output_type": "stream",
     "text": [
      "Min:  [0. 0. 0.]\n",
      "\n",
      "Max:  [1. 1. 1.]\n"
     ]
    }
   ],
   "source": [
    "print(\"Min: \", np.min(X_train_scaled, axis=0))\n",
    "print(\"\\nMax: \", np.max(X_train_scaled, axis=0))"
   ]
  },
  {
   "cell_type": "markdown",
   "metadata": {},
   "source": [
    "###  Encoding categorical features\n",
    "\n",
    "Often features are not given as continuous values but categorical. For example a person could have features `\"male\"`, `\"female\"` or `\"high\"`, `\"low\"`, `\"medium\"`. Such features can be efficiently coded as integers, such as `0`, `1` (_nominal_)  or `2`, `0`, `1` (_ordinal_)."
   ]
  },
  {
   "cell_type": "code",
   "execution_count": 33,
   "metadata": {},
   "outputs": [
    {
     "data": {
      "text/plain": [
       "array([['Male', '1', '0.76'],\n",
       "       ['Female', '3', '0.22'],\n",
       "       ['Female', '2', '0.57']], dtype='<U6')"
      ]
     },
     "execution_count": 33,
     "metadata": {},
     "output_type": "execute_result"
    }
   ],
   "source": [
    "X_train = np.array([['Male', 1, 0.76], ['Female', 3, 0.22], ['Female', 2, 0.57]])\n",
    "X_train"
   ]
  },
  {
   "cell_type": "code",
   "execution_count": 34,
   "metadata": {},
   "outputs": [
    {
     "data": {
      "text/plain": [
       "array(['Male', 'Female', 'Female'], dtype='<U6')"
      ]
     },
     "execution_count": 34,
     "metadata": {},
     "output_type": "execute_result"
    }
   ],
   "source": [
    "X_train[:,0]"
   ]
  },
  {
   "cell_type": "markdown",
   "metadata": {},
   "source": [
    "#### Label encoding"
   ]
  },
  {
   "cell_type": "code",
   "execution_count": 35,
   "metadata": {},
   "outputs": [
    {
     "data": {
      "text/plain": [
       "LabelEncoder()"
      ]
     },
     "execution_count": 35,
     "metadata": {},
     "output_type": "execute_result"
    }
   ],
   "source": [
    "le = preprocessing.LabelEncoder()\n",
    "le.fit(X_train[:,0])"
   ]
  },
  {
   "cell_type": "code",
   "execution_count": 36,
   "metadata": {},
   "outputs": [
    {
     "data": {
      "text/plain": [
       "['Female', 'Male']"
      ]
     },
     "execution_count": 36,
     "metadata": {},
     "output_type": "execute_result"
    }
   ],
   "source": [
    "list(le.classes_)"
   ]
  },
  {
   "cell_type": "code",
   "execution_count": 37,
   "metadata": {},
   "outputs": [
    {
     "data": {
      "text/plain": [
       "array([1, 0, 0])"
      ]
     },
     "execution_count": 37,
     "metadata": {},
     "output_type": "execute_result"
    }
   ],
   "source": [
    "le.transform(X_train[:,0]) "
   ]
  },
  {
   "cell_type": "code",
   "execution_count": 38,
   "metadata": {},
   "outputs": [
    {
     "data": {
      "text/plain": [
       "array([[1.  , 1.  , 0.76],\n",
       "       [0.  , 3.  , 0.22],\n",
       "       [0.  , 2.  , 0.57]])"
      ]
     },
     "execution_count": 38,
     "metadata": {},
     "output_type": "execute_result"
    }
   ],
   "source": [
    "X_encoded = np.copy(X_train)\n",
    "X_encoded[:,0] = le.transform(X_train[:,0])\n",
    "X_encoded = X_encoded.astype(float)\n",
    "X_encoded"
   ]
  },
  {
   "cell_type": "code",
   "execution_count": 39,
   "metadata": {},
   "outputs": [
    {
     "data": {
      "text/plain": [
       "array(['Male', 'Female', 'Female'], dtype='<U6')"
      ]
     },
     "execution_count": 39,
     "metadata": {},
     "output_type": "execute_result"
    }
   ],
   "source": [
    "le.inverse_transform(X_encoded[:,0].astype(int))"
   ]
  },
  {
   "cell_type": "markdown",
   "metadata": {},
   "source": [
    "#### One-Hot encoding"
   ]
  },
  {
   "cell_type": "code",
   "execution_count": 40,
   "metadata": {},
   "outputs": [
    {
     "data": {
      "text/plain": [
       "OneHotEncoder(categories='auto', drop=None, dtype=<class 'numpy.float64'>,\n",
       "              handle_unknown='error', sparse=True)"
      ]
     },
     "execution_count": 40,
     "metadata": {},
     "output_type": "execute_result"
    }
   ],
   "source": [
    "enc = preprocessing.OneHotEncoder(categories='auto', )\n",
    "enc.fit(X_train[:,0].reshape(-1,1))"
   ]
  },
  {
   "cell_type": "code",
   "execution_count": 41,
   "metadata": {},
   "outputs": [
    {
     "data": {
      "text/plain": [
       "array(['Male', 'Female', 'Female'], dtype='<U6')"
      ]
     },
     "execution_count": 41,
     "metadata": {},
     "output_type": "execute_result"
    }
   ],
   "source": [
    "X_train[:,0]"
   ]
  },
  {
   "cell_type": "code",
   "execution_count": 42,
   "metadata": {},
   "outputs": [
    {
     "data": {
      "text/plain": [
       "array([[0., 1.],\n",
       "       [1., 0.],\n",
       "       [1., 0.]])"
      ]
     },
     "execution_count": 42,
     "metadata": {},
     "output_type": "execute_result"
    }
   ],
   "source": [
    "ohe = enc.transform(X_train[:,0].reshape(-1,1)).toarray()\n",
    "ohe"
   ]
  },
  {
   "cell_type": "markdown",
   "metadata": {},
   "source": [
    "### Imputation of missing values"
   ]
  },
  {
   "cell_type": "markdown",
   "metadata": {},
   "source": [
    "Many real world datasets contain missing values, often encoded as blanks, `NaN`s or other placeholders. A basic strategy to use incomplete datasets is to discard entire rows and/or columns containing missing values. Another strategy is to impute the missing values, i.e., to infer them from the known part of the data.\n",
    "\n",
    "In scikit-learn the `SimpleImputer` class provides basic strategies for imputing missing values, either using __the mean__, __the median__ or __the most frequent value__ of the row or column in which the missing values are located. "
   ]
  },
  {
   "cell_type": "code",
   "execution_count": 43,
   "metadata": {},
   "outputs": [],
   "source": [
    "from sklearn.impute import SimpleImputer"
   ]
  },
  {
   "cell_type": "code",
   "execution_count": 44,
   "metadata": {},
   "outputs": [
    {
     "data": {
      "text/plain": [
       "array([[ 1.,  2.],\n",
       "       [nan,  3.],\n",
       "       [ 7.,  6.]])"
      ]
     },
     "execution_count": 44,
     "metadata": {},
     "output_type": "execute_result"
    }
   ],
   "source": [
    "X_train = np.array([[1, 2], [np.nan, 3], [7, 6]])\n",
    "X_train"
   ]
  },
  {
   "cell_type": "code",
   "execution_count": 45,
   "metadata": {},
   "outputs": [
    {
     "data": {
      "text/plain": [
       "SimpleImputer(add_indicator=False, copy=True, fill_value=None,\n",
       "              missing_values=nan, strategy='mean', verbose=0)"
      ]
     },
     "execution_count": 45,
     "metadata": {},
     "output_type": "execute_result"
    }
   ],
   "source": [
    "imp = SimpleImputer(missing_values=np.nan, strategy='mean')\n",
    "imp.fit(X_train)"
   ]
  },
  {
   "cell_type": "code",
   "execution_count": 46,
   "metadata": {},
   "outputs": [
    {
     "data": {
      "text/plain": [
       "array([4.        , 3.66666667])"
      ]
     },
     "execution_count": 46,
     "metadata": {},
     "output_type": "execute_result"
    }
   ],
   "source": [
    "np.nanmean(X_train, axis=0)"
   ]
  },
  {
   "cell_type": "code",
   "execution_count": 47,
   "metadata": {},
   "outputs": [
    {
     "data": {
      "text/plain": [
       "array([[1., 2.],\n",
       "       [4., 3.],\n",
       "       [7., 6.]])"
      ]
     },
     "execution_count": 47,
     "metadata": {},
     "output_type": "execute_result"
    }
   ],
   "source": [
    "imp.transform(X_train)"
   ]
  },
  {
   "cell_type": "markdown",
   "metadata": {},
   "source": [
    "## Create the Model\n",
    "\n",
    "Scikit-learn ships with many different supervised and unsupervised models as well as some basic neural network models; among those are:\n",
    "\n",
    "* ### Linear models\n",
    "  * Ordinary Least Squares\n",
    "  * Polynomial regression\n",
    "  * Ridge Regression\n",
    "  * Lasso\n",
    "  * Elastic Net\n",
    "  * Logistic regression\n",
    "\n",
    "* ### Support Vector Machines\n",
    "\n",
    "* ### Nearest Neighbors\n",
    "\n",
    "* ### Gaussian Processes\n",
    "\n",
    "* ### Decision Trees\n",
    "\n",
    "* ### Ensemble methods\n",
    "  * Random Forest\n",
    "  * Gradient Boosting\n",
    "\n",
    "Visit the [scikit-learn documentation website](http://scikit-learn.org/stable/index.html) for a comprehensive list of avaiake models and techniques. "
   ]
  },
  {
   "cell_type": "markdown",
   "metadata": {},
   "source": [
    "### Loading a toy data set\n",
    "\n",
    "For  the sake of this tutorial we load the _wine dataset_ provided by scikit learn."
   ]
  },
  {
   "cell_type": "code",
   "execution_count": 48,
   "metadata": {},
   "outputs": [],
   "source": [
    "from sklearn.datasets import load_wine"
   ]
  },
  {
   "cell_type": "code",
   "execution_count": 50,
   "metadata": {},
   "outputs": [
    {
     "name": "stdout",
     "output_type": "stream",
     "text": [
      ".. _wine_dataset:\n",
      "\n",
      "Wine recognition dataset\n",
      "------------------------\n",
      "\n",
      "**Data Set Characteristics:**\n",
      "\n",
      "    :Number of Instances: 178 (50 in each of three classes)\n",
      "    :Number of Attributes: 13 numeric, predictive attributes and the class\n",
      "    :Attribute Information:\n",
      " \t\t- Alcohol\n",
      " \t\t- Malic acid\n",
      " \t\t- Ash\n",
      "\t\t- Alcalinity of ash  \n",
      " \t\t- Magnesium\n",
      "\t\t- Total phenols\n",
      " \t\t- Flavanoids\n",
      " \t\t- Nonflavanoid phenols\n",
      " \t\t- Proanthocyanins\n",
      "\t\t- Color intensity\n",
      " \t\t- Hue\n",
      " \t\t- OD280/OD315 of diluted wines\n",
      " \t\t- Proline\n",
      "\n",
      "    - class:\n",
      "            - class_0\n",
      "            - class_1\n",
      "            - class_2\n",
      "\t\t\n",
      "    :Summary Statistics:\n",
      "    \n",
      "    ============================= ==== ===== ======= =====\n",
      "                                   Min   Max   Mean     SD\n",
      "    ============================= ==== ===== ======= =====\n",
      "    Alcohol:                      11.0  14.8    13.0   0.8\n",
      "    Malic Acid:                   0.74  5.80    2.34  1.12\n",
      "    Ash:                          1.36  3.23    2.36  0.27\n",
      "    Alcalinity of Ash:            10.6  30.0    19.5   3.3\n",
      "    Magnesium:                    70.0 162.0    99.7  14.3\n",
      "    Total Phenols:                0.98  3.88    2.29  0.63\n",
      "    Flavanoids:                   0.34  5.08    2.03  1.00\n",
      "    Nonflavanoid Phenols:         0.13  0.66    0.36  0.12\n",
      "    Proanthocyanins:              0.41  3.58    1.59  0.57\n",
      "    Colour Intensity:              1.3  13.0     5.1   2.3\n",
      "    Hue:                          0.48  1.71    0.96  0.23\n",
      "    OD280/OD315 of diluted wines: 1.27  4.00    2.61  0.71\n",
      "    Proline:                       278  1680     746   315\n",
      "    ============================= ==== ===== ======= =====\n",
      "\n",
      "    :Missing Attribute Values: None\n",
      "    :Class Distribution: class_0 (59), class_1 (71), class_2 (48)\n",
      "    :Creator: R.A. Fisher\n",
      "    :Donor: Michael Marshall (MARSHALL%PLU@io.arc.nasa.gov)\n",
      "    :Date: July, 1988\n",
      "\n",
      "This is a copy of UCI ML Wine recognition datasets.\n",
      "https://archive.ics.uci.edu/ml/machine-learning-databases/wine/wine.data\n",
      "\n",
      "The data is the results of a chemical analysis of wines grown in the same\n",
      "region in Italy by three different cultivators. There are thirteen different\n",
      "measurements taken for different constituents found in the three types of\n",
      "wine.\n",
      "\n",
      "Original Owners: \n",
      "\n",
      "Forina, M. et al, PARVUS - \n",
      "An Extendible Package for Data Exploration, Classification and Correlation. \n",
      "Institute of Pharmaceutical and Food Analysis and Technologies,\n",
      "Via Brigata Salerno, 16147 Genoa, Italy.\n",
      "\n",
      "Citation:\n",
      "\n",
      "Lichman, M. (2013). UCI Machine Learning Repository\n",
      "[https://archive.ics.uci.edu/ml]. Irvine, CA: University of California,\n",
      "School of Information and Computer Science. \n",
      "\n",
      ".. topic:: References\n",
      "\n",
      "  (1) S. Aeberhard, D. Coomans and O. de Vel, \n",
      "  Comparison of Classifiers in High Dimensional Settings, \n",
      "  Tech. Rep. no. 92-02, (1992), Dept. of Computer Science and Dept. of  \n",
      "  Mathematics and Statistics, James Cook University of North Queensland. \n",
      "  (Also submitted to Technometrics). \n",
      "\n",
      "  The data was used with many others for comparing various \n",
      "  classifiers. The classes are separable, though only RDA \n",
      "  has achieved 100% correct classification. \n",
      "  (RDA : 100%, QDA 99.4%, LDA 98.9%, 1NN 96.1% (z-transformed data)) \n",
      "  (All results using the leave-one-out technique) \n",
      "\n",
      "  (2) S. Aeberhard, D. Coomans and O. de Vel, \n",
      "  \"THE CLASSIFICATION PERFORMANCE OF RDA\" \n",
      "  Tech. Rep. no. 92-01, (1992), Dept. of Computer Science and Dept. of \n",
      "  Mathematics and Statistics, James Cook University of North Queensland. \n",
      "  (Also submitted to Journal of Chemometrics).\n",
      "\n"
     ]
    }
   ],
   "source": [
    "ds = load_wine()\n",
    "print(ds.DESCR)"
   ]
  },
  {
   "cell_type": "code",
   "execution_count": 51,
   "metadata": {},
   "outputs": [
    {
     "data": {
      "text/plain": [
       "array([[1.423e+01, 1.710e+00, 2.430e+00, ..., 1.040e+00, 3.920e+00,\n",
       "        1.065e+03],\n",
       "       [1.320e+01, 1.780e+00, 2.140e+00, ..., 1.050e+00, 3.400e+00,\n",
       "        1.050e+03],\n",
       "       [1.316e+01, 2.360e+00, 2.670e+00, ..., 1.030e+00, 3.170e+00,\n",
       "        1.185e+03],\n",
       "       ...,\n",
       "       [1.327e+01, 4.280e+00, 2.260e+00, ..., 5.900e-01, 1.560e+00,\n",
       "        8.350e+02],\n",
       "       [1.317e+01, 2.590e+00, 2.370e+00, ..., 6.000e-01, 1.620e+00,\n",
       "        8.400e+02],\n",
       "       [1.413e+01, 4.100e+00, 2.740e+00, ..., 6.100e-01, 1.600e+00,\n",
       "        5.600e+02]])"
      ]
     },
     "execution_count": 51,
     "metadata": {},
     "output_type": "execute_result"
    }
   ],
   "source": [
    "ds.data"
   ]
  },
  {
   "cell_type": "code",
   "execution_count": 52,
   "metadata": {},
   "outputs": [
    {
     "data": {
      "text/plain": [
       "array([0, 0, 0, 0, 0, 0, 0, 0, 0, 0, 0, 0, 0, 0, 0, 0, 0, 0, 0, 0, 0, 0,\n",
       "       0, 0, 0, 0, 0, 0, 0, 0, 0, 0, 0, 0, 0, 0, 0, 0, 0, 0, 0, 0, 0, 0,\n",
       "       0, 0, 0, 0, 0, 0, 0, 0, 0, 0, 0, 0, 0, 0, 0, 1, 1, 1, 1, 1, 1, 1,\n",
       "       1, 1, 1, 1, 1, 1, 1, 1, 1, 1, 1, 1, 1, 1, 1, 1, 1, 1, 1, 1, 1, 1,\n",
       "       1, 1, 1, 1, 1, 1, 1, 1, 1, 1, 1, 1, 1, 1, 1, 1, 1, 1, 1, 1, 1, 1,\n",
       "       1, 1, 1, 1, 1, 1, 1, 1, 1, 1, 1, 1, 1, 1, 1, 1, 1, 1, 1, 1, 2, 2,\n",
       "       2, 2, 2, 2, 2, 2, 2, 2, 2, 2, 2, 2, 2, 2, 2, 2, 2, 2, 2, 2, 2, 2,\n",
       "       2, 2, 2, 2, 2, 2, 2, 2, 2, 2, 2, 2, 2, 2, 2, 2, 2, 2, 2, 2, 2, 2,\n",
       "       2, 2])"
      ]
     },
     "execution_count": 52,
     "metadata": {},
     "output_type": "execute_result"
    }
   ],
   "source": [
    "ds.target"
   ]
  },
  {
   "cell_type": "markdown",
   "metadata": {},
   "source": [
    "### Subsetting the data set to two classes"
   ]
  },
  {
   "cell_type": "code",
   "execution_count": 53,
   "metadata": {},
   "outputs": [
    {
     "data": {
      "text/plain": [
       "(130,)"
      ]
     },
     "execution_count": 53,
     "metadata": {},
     "output_type": "execute_result"
    }
   ],
   "source": [
    "y = ds.target[ds.target < 2]\n",
    "y.shape"
   ]
  },
  {
   "cell_type": "code",
   "execution_count": 54,
   "metadata": {},
   "outputs": [
    {
     "data": {
      "text/plain": [
       "(130, 13)"
      ]
     },
     "execution_count": 54,
     "metadata": {},
     "output_type": "execute_result"
    }
   ],
   "source": [
    "X = ds.data[ds.target < 2]\n",
    "X.shape"
   ]
  },
  {
   "cell_type": "markdown",
   "metadata": {},
   "source": [
    "### Train-test split"
   ]
  },
  {
   "cell_type": "code",
   "execution_count": 55,
   "metadata": {},
   "outputs": [],
   "source": [
    "from sklearn.model_selection import train_test_split\n",
    "X_train, X_test, y_train, y_test = train_test_split(X, y, test_size=0.3,\n",
    "                                                    random_state=42)"
   ]
  },
  {
   "cell_type": "code",
   "execution_count": 56,
   "metadata": {},
   "outputs": [
    {
     "name": "stdout",
     "output_type": "stream",
     "text": [
      "(91, 13)\n",
      "(39, 13)\n",
      "(91,)\n",
      "(39,)\n"
     ]
    }
   ],
   "source": [
    "print(X_train.shape)\n",
    "print(X_test.shape)\n",
    "print(y_train.shape)\n",
    "print(y_test.shape)"
   ]
  },
  {
   "cell_type": "code",
   "execution_count": 61,
   "metadata": {},
   "outputs": [
    {
     "data": {
      "text/plain": [
       "array([0, 0, 0, 0, 1, 0, 1, 1, 1, 0, 1, 0, 1, 0, 1, 1, 0, 1, 1, 1, 0, 0,\n",
       "       1, 0, 1, 0, 1, 1, 0, 0, 0, 0, 0, 0, 1, 1, 1, 0, 1])"
      ]
     },
     "execution_count": 61,
     "metadata": {},
     "output_type": "execute_result"
    }
   ],
   "source": [
    "y_test"
   ]
  },
  {
   "cell_type": "markdown",
   "metadata": {},
   "source": [
    "### Creation of a model instance "
   ]
  },
  {
   "cell_type": "markdown",
   "metadata": {},
   "source": [
    "For the purpose of this tutorial we introduce [**Logistic regression**](https://en.wikipedia.org/wiki/Logistic_regression), also known as **logit regression**, or **logit model**, a probabilistic linear model for dichotomous data. The response variable is a binary variable (nominal variable), which means the variable has two categories or two values; Class 1 vs. Class 2, True vs. False, or $1$ vs. $0$, or success vs. failure, with the probabilities of $\\pi$ and $1-\\pi$, respectively. \n",
    "\n",
    "The output of a logistic regression is a probability $(\\pi)$, thus a value between $0$ and $1$. Moreover, this output is a linear function of known covariates $x_i$, which is just another word for the features in our data set. \n",
    "$$\\pi =\\beta_0+ \\beta_1x_1+ \\beta_2x_2+ ... +\\beta_kx_k$$\n",
    "\n",
    "However, the right term of the equation can take any real value, whereas the left term of the equation is a probability, on the scale $0$ to $1$. In order to transform the scale of the data (right term) into a probability between $0$ and $1$ we apply a so-called **link function**. \n",
    "\n",
    "For the logistic regression model this link function is the [**logit function**](https://en.wikipedia.org/wiki/Logit). The logit function maps probabilities from the range $(0, 1)$ to the entire real number range $(-\\infty, \\infty)$. It is written as \n",
    "\n",
    "$$\\eta = logit(\\pi)\\text{,}$$\n",
    "\n",
    "where $\\pi$ is the probability. \n",
    "\n",
    "To understand the logit we first introduce the [**odds ratio**](https://en.wikipedia.org/wiki/Odds_ratio) or in short **odds**. The odds (o) can be written as \n",
    "\n",
    "$$o = \\frac{\\pi}{1-\\pi}\\text{,}$$\n",
    "\n",
    "where $\\pi$ is the probability that an event occurs. If the probability of an event is a $0.5$, the odds are one-to-one or even $\\left(\\frac{0.5}{1-0.5}=1\\right)$. We further define the or **log-odds**, which is the logarithm of the odds:\n",
    "$$\\eta = logit(\\pi)= log \\left( \\frac{\\pi}{1-\\pi}\\right)$$\n",
    "\n",
    "This logarithmic function has the effect of removing the floor restriction, thus the function, the [**logit function**](https://en.wikipedia.org/wiki/Logit), our link function, transforms values in the range $0$ to $1$ to values over the entire real number range $(-\\infty, \\infty)$. If the probability is $1/2$ the odds are even and the logit is zero. Negative logits represent probabilities below one half and positive logits correspond to probabilities above one half.\n",
    "\n",
    "The inverse form of the logit function is also called the [logistic function](https://en.wikipedia.org/wiki/Logistic_function), sometimes simply abbreviated as [**sigmoid function**](https://en.wikipedia.org/wiki/Sigmoid_function) due to its characteristic S-shape. Is allows us to go back from logits to probabilities.\n",
    "\n",
    "$$\\pi =logit^{-1}(\\eta)= \\frac{e^{\\eta}}{1+e^{\\eta}}=\\frac{1}{1+e^{-\\eta}}=\\frac{1}{1+e^{-\\beta_0+ \\beta_1x_1+ \\beta_2x_2+ ... +\\beta_kx_k}}$$\n",
    "\n",
    "The logistic function for the interval $[-6,6]$ is shown below. For values of $\\eta$ in the range from $-\\infty$ to $\\infty$ $\\pi$ is in the range of $0$ to $1$.\n"
   ]
  },
  {
   "cell_type": "code",
   "execution_count": 62,
   "metadata": {},
   "outputs": [
    {
     "data": {
      "image/png": "[encoded data removed]",
      "text/plain": [
       "<Figure size 576x288 with 1 Axes>"
      ]
     },
     "metadata": {
      "needs_background": "light"
     },
     "output_type": "display_data"
    }
   ],
   "source": [
    "def logit(interval=[-6,6]):\n",
    "    x = np.linspace(interval[0], interval[1])\n",
    "    y = 1 / (1 + np.exp(-x))\n",
    "    return (x,y)\n",
    "    \n",
    "fig, ax = plt.subplots(figsize=(8,4))\n",
    "ax.plot(logit()[0], logit()[1])\n",
    "ax.axvline(0, color=\"k\", linestyle=\"dashed\", linewidth=0.5)\n",
    "ax.axhline(0.5, color=\"k\", linestyle=\"dashed\", linewidth=0.5)\n",
    "ax.set_title(\"The logistic function\", size=18);"
   ]
  },
  {
   "cell_type": "markdown",
   "metadata": {},
   "source": [
    "The logit function maps probabilities to values over the entire real number range. Thus, the probability of an event/outcome/success to be true $(y=1)$, given the set of predictors $x_i$, which is our data, is written as\n",
    "\n",
    "$$logit(P(y=1|x_i))= \\beta_0+ \\beta_1x_1+ \\beta_2x_2+ ... +\\beta_kx_k\\text{,}$$\n",
    "For a matter of simplification we express the inverse of the function above as \n",
    "\n",
    "$$\\phi(\\eta) = \\frac{1}{1+e^{-\\eta}}\\text{,}$$\n",
    "\n",
    "where $\\eta$ is the linear combination of coefficients $(\\beta_i)$ and predictor variables $(x_i)$, calculated as $\\eta = \\beta_0+ \\beta_1x_1+ \\beta_2x_2+ ... +\\beta_kx_k$.\n",
    "\n",
    "The parameters $(\\beta_i)$ of the logit model are estimated by the [**method of maximum likelihood**](https://en.wikipedia.org/wiki/Maximum_likelihood_estimation). However, there is no closed-form solution, so the maximum likelihood estimates are obtained by using iterative algorithms such as [gradient descent](https://en.wikipedia.org/wiki/Gradient_descent), among others. \n",
    "\n",
    "The output of the sigmoid function is interpreted as the probability of a particular observation belonging to class 1. It is written as  $\\phi(\\eta)=P(y=1|x_i,\\beta_i)$, the probability of success $(y=1)$ given the predictor variables $x_i$ parameterized by the coefficients $\\beta_i$. For example, if we compute $\\phi(\\eta)=0.65$ for a particular observation, this means that the chance that this observation belongs to class 1 is 65%. Similarly, the probability that this observation belongs to class 2 is calculated as $\\phi(\\eta)=P(y=0|x_i,\\beta_i)= 1 - P(y=1|x_i,\\beta_i)=1-0.65=0.35$ or 35%. For class assignment the predicted probability is then converted into a binary outcome via a unit step function:\n",
    "\n",
    "$$\n",
    "\\hat y =\n",
    "\\begin{cases}\n",
    "1,  & \\text{if $\\phi(\\eta) \\ge$ 0.5} \\\\\n",
    "0, & \\text{otherwise}\n",
    "\\end{cases}\n",
    "$$"
   ]
  },
  {
   "cell_type": "code",
   "execution_count": 64,
   "metadata": {
    "scrolled": true
   },
   "outputs": [
    {
     "data": {
      "text/plain": [
       "LogisticRegression(C=1.0, class_weight=None, dual=False, fit_intercept=True,\n",
       "                   intercept_scaling=1, l1_ratio=None, max_iter=5000,\n",
       "                   multi_class='auto', n_jobs=None, penalty='l2',\n",
       "                   random_state=None, solver='lbfgs', tol=0.0001, verbose=0,\n",
       "                   warm_start=False)"
      ]
     },
     "execution_count": 64,
     "metadata": {},
     "output_type": "execute_result"
    }
   ],
   "source": [
    "from sklearn import linear_model\n",
    "logistic = linear_model.LogisticRegression(solver='lbfgs', max_iter=5000)\n",
    "logistic"
   ]
  },
  {
   "cell_type": "markdown",
   "metadata": {},
   "source": [
    "## Model Fitting"
   ]
  },
  {
   "cell_type": "code",
   "execution_count": 65,
   "metadata": {},
   "outputs": [
    {
     "data": {
      "text/plain": [
       "LogisticRegression(C=1.0, class_weight=None, dual=False, fit_intercept=True,\n",
       "                   intercept_scaling=1, l1_ratio=None, max_iter=5000,\n",
       "                   multi_class='auto', n_jobs=None, penalty='l2',\n",
       "                   random_state=None, solver='lbfgs', tol=0.0001, verbose=0,\n",
       "                   warm_start=False)"
      ]
     },
     "execution_count": 65,
     "metadata": {},
     "output_type": "execute_result"
    }
   ],
   "source": [
    "logistic.fit(X_train, y_train,)"
   ]
  },
  {
   "cell_type": "markdown",
   "metadata": {},
   "source": [
    "## Prediction"
   ]
  },
  {
   "cell_type": "markdown",
   "metadata": {},
   "source": [
    "### In-sample prediction"
   ]
  },
  {
   "cell_type": "code",
   "execution_count": 66,
   "metadata": {},
   "outputs": [
    {
     "data": {
      "text/plain": [
       "array([0, 0, 1, 1, 0, 1, 1, 0, 0, 1, 1, 1, 0, 1, 1, 0, 0, 1, 1, 0, 0, 0,\n",
       "       0, 1, 0, 1, 0, 0, 1, 1, 1, 0, 0, 1, 0, 0, 0, 1, 1, 0, 1, 1, 1, 0,\n",
       "       0, 1, 0, 1, 1, 1, 1, 1, 1, 0, 0, 1, 0, 1, 1, 0, 1, 0, 1, 1, 1, 1,\n",
       "       0, 0, 1, 1, 0, 0, 0, 0, 0, 1, 1, 1, 1, 1, 1, 1, 1, 1, 0, 1, 1, 1,\n",
       "       0, 1, 1])"
      ]
     },
     "execution_count": 66,
     "metadata": {},
     "output_type": "execute_result"
    }
   ],
   "source": [
    "logistic.predict(X_train)"
   ]
  },
  {
   "cell_type": "markdown",
   "metadata": {},
   "source": [
    "### Out of sample prediction"
   ]
  },
  {
   "cell_type": "code",
   "execution_count": 67,
   "metadata": {},
   "outputs": [
    {
     "data": {
      "text/plain": [
       "array([0, 0, 0, 0, 1, 0, 0, 1, 1, 0, 0, 0, 1, 0, 1, 1, 0, 1, 1, 1, 0, 0,\n",
       "       1, 0, 1, 0, 1, 0, 0, 0, 0, 0, 0, 0, 1, 1, 1, 0, 1])"
      ]
     },
     "execution_count": 67,
     "metadata": {},
     "output_type": "execute_result"
    }
   ],
   "source": [
    "y_pred = logistic.predict(X_test)\n",
    "y_pred"
   ]
  },
  {
   "cell_type": "code",
   "execution_count": 68,
   "metadata": {},
   "outputs": [
    {
     "data": {
      "text/plain": [
       "array([[9.99468532e-01, 5.31467720e-04],\n",
       "       [9.87549463e-01, 1.24505369e-02],\n",
       "       [9.98521420e-01, 1.47858024e-03],\n",
       "       [9.99999623e-01, 3.77247327e-07],\n",
       "       [7.94044520e-06, 9.99992060e-01]])"
      ]
     },
     "execution_count": 68,
     "metadata": {},
     "output_type": "execute_result"
    }
   ],
   "source": [
    "logistic.predict_proba(X_test)[:5]"
   ]
  },
  {
   "cell_type": "markdown",
   "metadata": {},
   "source": [
    "##  Evaluate the Model's Performance\n",
    "\n",
    "In scikit-learn there are 3 different APIs for evaluating the quality of a model’s predictions:\n",
    "\n",
    "* __Estimator score method__: Estimators have a score method providing a default evaluation criterion for the problem they are designed to solve. \n",
    "* __Scoring parameter__: Model-evaluation tools using cross-validation rely on an internal scoring strategy. \n",
    "* __Metric functions__: The metrics module implements functions assessing prediction error for specific purposes. Functions ending with `_score` return a value to maximize, the higher the better, and Functions ending with `_error` or `_loss` return a value to minimize, the lower the better."
   ]
  },
  {
   "cell_type": "markdown",
   "metadata": {},
   "source": [
    "### Estimator score method\n",
    "\n",
    "Returns the mean accuracy on the given test data and labels.\n",
    "\n",
    "$$\\text{accuracy}(y, \\hat y) = \\frac{1}{n_{\\text{samples}}} \\sum_{i=0}^{n_{\\text{samples}}-1}\\mathbb1(\\hat y_i = y_i)$$"
   ]
  },
  {
   "cell_type": "code",
   "execution_count": 69,
   "metadata": {},
   "outputs": [
    {
     "data": {
      "text/plain": [
       "0.9230769230769231"
      ]
     },
     "execution_count": 69,
     "metadata": {},
     "output_type": "execute_result"
    }
   ],
   "source": [
    "logistic.score(X_test, y_test)"
   ]
  },
  {
   "cell_type": "code",
   "execution_count": 70,
   "metadata": {},
   "outputs": [
    {
     "data": {
      "text/plain": [
       "0.9230769230769231"
      ]
     },
     "execution_count": 70,
     "metadata": {},
     "output_type": "execute_result"
    }
   ],
   "source": [
    "np.sum(y_pred == y_test)/len(y_test)"
   ]
  },
  {
   "cell_type": "markdown",
   "metadata": {},
   "source": [
    "### Metric functions"
   ]
  },
  {
   "cell_type": "code",
   "execution_count": 71,
   "metadata": {},
   "outputs": [
    {
     "data": {
      "text/plain": [
       "0.9230769230769231"
      ]
     },
     "execution_count": 71,
     "metadata": {},
     "output_type": "execute_result"
    }
   ],
   "source": [
    "from sklearn.metrics import accuracy_score\n",
    "accuracy_score(y_pred, y_test)"
   ]
  },
  {
   "cell_type": "markdown",
   "metadata": {},
   "source": [
    "Note that there are many more [model metrics](http://scikit-learn.org/stable/modules/model_evaluation.html) available in scikit-learn.  "
   ]
  },
  {
   "cell_type": "code",
   "execution_count": 72,
   "metadata": {},
   "outputs": [
    {
     "data": {
      "text/plain": [
       "['__package__',\n",
       " '__path__',\n",
       " '__spec__',\n",
       " '_base',\n",
       " '_classification',\n",
       " '_pairwise_fast',\n",
       " '_plot',\n",
       " '_ranking',\n",
       " '_regression',\n",
       " '_scorer',\n",
       " 'accuracy_score',\n",
       " 'adjusted_mutual_info_score',\n",
       " 'adjusted_rand_score',\n",
       " 'auc',\n",
       " 'average_precision_score',\n",
       " 'balanced_accuracy_score',\n",
       " 'brier_score_loss',\n",
       " 'calinski_harabasz_score',\n",
       " 'calinski_harabaz_score',\n",
       " 'check_scoring',\n",
       " 'classification_report',\n",
       " 'cluster',\n",
       " 'cohen_kappa_score',\n",
       " 'completeness_score',\n",
       " 'confusion_matrix',\n",
       " 'consensus_score',\n",
       " 'coverage_error',\n",
       " 'davies_bouldin_score',\n",
       " 'dcg_score',\n",
       " 'euclidean_distances',\n",
       " 'explained_variance_score',\n",
       " 'f1_score',\n",
       " 'fbeta_score',\n",
       " 'fowlkes_mallows_score',\n",
       " 'get_scorer',\n",
       " 'hamming_loss',\n",
       " 'hinge_loss',\n",
       " 'homogeneity_completeness_v_measure',\n",
       " 'homogeneity_score',\n",
       " 'jaccard_score',\n",
       " 'jaccard_similarity_score',\n",
       " 'label_ranking_average_precision_score',\n",
       " 'label_ranking_loss',\n",
       " 'log_loss',\n",
       " 'make_scorer',\n",
       " 'matthews_corrcoef',\n",
       " 'max_error',\n",
       " 'mean_absolute_error',\n",
       " 'mean_gamma_deviance',\n",
       " 'mean_poisson_deviance',\n",
       " 'mean_squared_error',\n",
       " 'mean_squared_log_error',\n",
       " 'mean_tweedie_deviance',\n",
       " 'median_absolute_error',\n",
       " 'multilabel_confusion_matrix',\n",
       " 'mutual_info_score',\n",
       " 'nan_euclidean_distances',\n",
       " 'ndcg_score',\n",
       " 'normalized_mutual_info_score',\n",
       " 'pairwise',\n",
       " 'pairwise_distances',\n",
       " 'pairwise_distances_argmin',\n",
       " 'pairwise_distances_argmin_min',\n",
       " 'pairwise_distances_chunked',\n",
       " 'pairwise_kernels',\n",
       " 'plot_confusion_matrix',\n",
       " 'plot_precision_recall_curve',\n",
       " 'plot_roc_curve',\n",
       " 'precision_recall_curve',\n",
       " 'precision_recall_fscore_support',\n",
       " 'precision_score',\n",
       " 'r2_score',\n",
       " 'recall_score',\n",
       " 'roc_auc_score',\n",
       " 'roc_curve',\n",
       " 'silhouette_samples',\n",
       " 'silhouette_score',\n",
       " 'v_measure_score',\n",
       " 'zero_one_loss']"
      ]
     },
     "execution_count": 72,
     "metadata": {},
     "output_type": "execute_result"
    }
   ],
   "source": [
    "dir(sklearn.metrics)[11:]"
   ]
  },
  {
   "cell_type": "markdown",
   "metadata": {},
   "source": [
    "## Tune the Model"
   ]
  },
  {
   "cell_type": "markdown",
   "metadata": {},
   "source": [
    "Be aware that there are two types of parameters: \n",
    "* __model parameters__ and \n",
    "* __hyperparameters__. \n",
    "\n",
    "Models parameters (i.e. regression coefficients) are learned from the data. Hyperparameters however, are parameters whose values are set before the learning process begins. Different model training algorithms require different hyperparameters, some simple algorithms  require none. \n",
    "\n",
    "The optimal hyperparameter configuration for a particular modeling task is unknown. Hence, we apply different techniques, such as grid search, random search or Baysian optimization to approximate the best hyperparamter configuration (referred to as [hyperparameter optimization](https://en.wikipedia.org/wiki/Hyperparameter_optimization).\n",
    "\n",
    "During the process of model optimization we want to avoid [overfitting](https://en.wikipedia.org/wiki/Overfitting). Hence, in machine learning a technique referred to as [k-fold cross-validation][1] is applied. Cross-validation is a process for reliably estimating the performance of a method for building a model by training and evaluating your model multiple times using the same method.\n",
    "\n",
    "#### K-fold cross-validation (Source: [Wikipedia][1])\n",
    "![](./_img/K-fold_cross_validation_EN.png)\n",
    "\n",
    "\n",
    "[1]: https://en.wikipedia.org/wiki/Cross-validation_(statistics)"
   ]
  },
  {
   "cell_type": "markdown",
   "metadata": {},
   "source": [
    "### Model creation"
   ]
  },
  {
   "cell_type": "markdown",
   "metadata": {},
   "source": [
    "For the purpose of this tutor ail we apply [support vector machines]() (SVMs) for classification of the subseted _wine data set_ (see above). An SVM model is a representation of the examples as points in space, mapped so that the examples of the separate categories are divided by a clear gap that is as wide as possible. \n",
    "\n",
    "\n",
    "The advantages of support vector machines are:\n",
    "\n",
    "* Effective in high dimensional spaces.\n",
    "* Still effective in cases where number of dimensions is greater than the number of samples.\n",
    "* Uses a subset of training points in the decision function (called support vectors), so it is also memory efficient.\n",
    "* Versatile: different Kernel functions can be specified for the decision function. \n",
    "\n",
    "The disadvantages of support vector machines include:\n",
    "\n",
    "* If the number of features is much greater than the number of samples, avoid over-fitting in choosing Kernel functions and regularization term is crucial.\n",
    "* SVMs do not directly provide probability estimates.\n",
    "* SVM do not scale well.\n",
    "\n",
    "The mathematics of the algorithm are beyond the scope of this tutorial, however if you are interested we suggest to dive into the [scikit-learn documentation](http://scikit-learn.org/stable/modules/svm.html) or watch the informative [video](https://www.youtube.com/watch?v=-Z4aojJ-pdg) by Brandon Rohrer."
   ]
  },
  {
   "cell_type": "code",
   "execution_count": 73,
   "metadata": {},
   "outputs": [
    {
     "data": {
      "text/plain": [
       "SVC(C=1.0, break_ties=False, cache_size=200, class_weight=None, coef0=0.0,\n",
       "    decision_function_shape='ovr', degree=3, gamma='scale', kernel='rbf',\n",
       "    max_iter=-1, probability=False, random_state=None, shrinking=True,\n",
       "    tol=0.001, verbose=False)"
      ]
     },
     "execution_count": 73,
     "metadata": {},
     "output_type": "execute_result"
    }
   ],
   "source": [
    "from sklearn import svm\n",
    "svc = svm.SVC()\n",
    "svc"
   ]
  },
  {
   "cell_type": "markdown",
   "metadata": {},
   "source": [
    "### Hyperparameter optimization using `GridSearchCV`"
   ]
  },
  {
   "cell_type": "markdown",
   "metadata": {},
   "source": [
    "* `C`: Penalty parameter `C` of the error term. The parameter allows one to trade off training error vs. model complexity. Hence, the `C` parameter trades off misclassification of training examples against simplicity of the decision surface. A low `C` makes the decision surface smooth, while a high `C` aims at classifying all training examples correctly by giving the model freedom to select more samples as support vectors.\n",
    "\n",
    "* `kernel`:  Specifies the kernel type to be used in the algorithm. It must be one of `linear`, `poly`, `rbf`, `sigmoid`, `precomputed` or a callable. \n",
    "\n",
    "* `gamma`: Kernel coefficient for `rbf`, `poly` and `sigmoid`. Intuitively, the `gamma` parameter defines how far the influence of a single training example reaches, with low values meaning _far_ and high values meaning _close_. The `gamma` parameters can be seen as the inverse of the radius of influence of samples selected by the model as support vectors."
   ]
  },
  {
   "cell_type": "code",
   "execution_count": 74,
   "metadata": {},
   "outputs": [],
   "source": [
    "from sklearn.model_selection import GridSearchCV\n",
    "\n",
    "param_grid = [{'C': [0.1, 1, 10, 100],\n",
    "               'gamma': [0.01, 0.001, 0.0001],\n",
    "               'kernel': ['linear', 'rbf']}]\n",
    "\n",
    "clf = GridSearchCV(svc, param_grid, cv=5, verbose=1, return_train_score=True)"
   ]
  },
  {
   "cell_type": "markdown",
   "metadata": {},
   "source": [
    "### Model fitting"
   ]
  },
  {
   "cell_type": "code",
   "execution_count": 75,
   "metadata": {},
   "outputs": [
    {
     "name": "stdout",
     "output_type": "stream",
     "text": [
      "Fitting 5 folds for each of 24 candidates, totalling 120 fits\n"
     ]
    },
    {
     "name": "stderr",
     "output_type": "stream",
     "text": [
      "[Parallel(n_jobs=1)]: Using backend SequentialBackend with 1 concurrent workers.\n",
      "[Parallel(n_jobs=1)]: Done 120 out of 120 | elapsed:    1.9s finished\n"
     ]
    },
    {
     "data": {
      "text/plain": [
       "GridSearchCV(cv=5, error_score=nan,\n",
       "             estimator=SVC(C=1.0, break_ties=False, cache_size=200,\n",
       "                           class_weight=None, coef0=0.0,\n",
       "                           decision_function_shape='ovr', degree=3,\n",
       "                           gamma='scale', kernel='rbf', max_iter=-1,\n",
       "                           probability=False, random_state=None, shrinking=True,\n",
       "                           tol=0.001, verbose=False),\n",
       "             iid='deprecated', n_jobs=None,\n",
       "             param_grid=[{'C': [0.1, 1, 10, 100],\n",
       "                          'gamma': [0.01, 0.001, 0.0001],\n",
       "                          'kernel': ['linear', 'rbf']}],\n",
       "             pre_dispatch='2*n_jobs', refit=True, return_train_score=True,\n",
       "             scoring=None, verbose=1)"
      ]
     },
     "execution_count": 75,
     "metadata": {},
     "output_type": "execute_result"
    }
   ],
   "source": [
    "clf.fit(X_train, y_train)"
   ]
  },
  {
   "cell_type": "markdown",
   "metadata": {},
   "source": [
    "### Cross validation results"
   ]
  },
  {
   "cell_type": "code",
   "execution_count": 76,
   "metadata": {},
   "outputs": [
    {
     "data": {
      "text/html": [
       "<div>\n",
       "<style scoped>\n",
       "    .dataframe tbody tr th:only-of-type {\n",
       "        vertical-align: middle;\n",
       "    }\n",
       "\n",
       "    .dataframe tbody tr th {\n",
       "        vertical-align: top;\n",
       "    }\n",
       "\n",
       "    .dataframe thead th {\n",
       "        text-align: right;\n",
       "    }\n",
       "</style>\n",
       "<table border=\"1\" class=\"dataframe\">\n",
       "  <thead>\n",
       "    <tr style=\"text-align: right;\">\n",
       "      <th></th>\n",
       "      <th>mean_fit_time</th>\n",
       "      <th>std_fit_time</th>\n",
       "      <th>mean_score_time</th>\n",
       "      <th>std_score_time</th>\n",
       "      <th>param_C</th>\n",
       "      <th>param_gamma</th>\n",
       "      <th>param_kernel</th>\n",
       "      <th>params</th>\n",
       "      <th>split0_test_score</th>\n",
       "      <th>split1_test_score</th>\n",
       "      <th>...</th>\n",
       "      <th>mean_test_score</th>\n",
       "      <th>std_test_score</th>\n",
       "      <th>rank_test_score</th>\n",
       "      <th>split0_train_score</th>\n",
       "      <th>split1_train_score</th>\n",
       "      <th>split2_train_score</th>\n",
       "      <th>split3_train_score</th>\n",
       "      <th>split4_train_score</th>\n",
       "      <th>mean_train_score</th>\n",
       "      <th>std_train_score</th>\n",
       "    </tr>\n",
       "  </thead>\n",
       "  <tbody>\n",
       "    <tr>\n",
       "      <th>0</th>\n",
       "      <td>0.004056</td>\n",
       "      <td>0.001878</td>\n",
       "      <td>0.000436</td>\n",
       "      <td>1.714597e-04</td>\n",
       "      <td>0.1</td>\n",
       "      <td>0.01</td>\n",
       "      <td>linear</td>\n",
       "      <td>{'C': 0.1, 'gamma': 0.01, 'kernel': 'linear'}</td>\n",
       "      <td>0.947368</td>\n",
       "      <td>1.000000</td>\n",
       "      <td>...</td>\n",
       "      <td>0.989474</td>\n",
       "      <td>0.021053</td>\n",
       "      <td>1</td>\n",
       "      <td>1.000000</td>\n",
       "      <td>0.986301</td>\n",
       "      <td>0.986301</td>\n",
       "      <td>0.986301</td>\n",
       "      <td>0.986301</td>\n",
       "      <td>0.989041</td>\n",
       "      <td>0.005479</td>\n",
       "    </tr>\n",
       "    <tr>\n",
       "      <th>1</th>\n",
       "      <td>0.000493</td>\n",
       "      <td>0.000019</td>\n",
       "      <td>0.000300</td>\n",
       "      <td>4.582512e-05</td>\n",
       "      <td>0.1</td>\n",
       "      <td>0.01</td>\n",
       "      <td>rbf</td>\n",
       "      <td>{'C': 0.1, 'gamma': 0.01, 'kernel': 'rbf'}</td>\n",
       "      <td>0.578947</td>\n",
       "      <td>0.555556</td>\n",
       "      <td>...</td>\n",
       "      <td>0.571345</td>\n",
       "      <td>0.021850</td>\n",
       "      <td>24</td>\n",
       "      <td>0.569444</td>\n",
       "      <td>0.575342</td>\n",
       "      <td>0.575342</td>\n",
       "      <td>0.575342</td>\n",
       "      <td>0.561644</td>\n",
       "      <td>0.571423</td>\n",
       "      <td>0.005397</td>\n",
       "    </tr>\n",
       "    <tr>\n",
       "      <th>2</th>\n",
       "      <td>0.004158</td>\n",
       "      <td>0.001393</td>\n",
       "      <td>0.000374</td>\n",
       "      <td>1.296407e-04</td>\n",
       "      <td>0.1</td>\n",
       "      <td>0.001</td>\n",
       "      <td>linear</td>\n",
       "      <td>{'C': 0.1, 'gamma': 0.001, 'kernel': 'linear'}</td>\n",
       "      <td>0.947368</td>\n",
       "      <td>1.000000</td>\n",
       "      <td>...</td>\n",
       "      <td>0.989474</td>\n",
       "      <td>0.021053</td>\n",
       "      <td>1</td>\n",
       "      <td>1.000000</td>\n",
       "      <td>0.986301</td>\n",
       "      <td>0.986301</td>\n",
       "      <td>0.986301</td>\n",
       "      <td>0.986301</td>\n",
       "      <td>0.989041</td>\n",
       "      <td>0.005479</td>\n",
       "    </tr>\n",
       "    <tr>\n",
       "      <th>3</th>\n",
       "      <td>0.000469</td>\n",
       "      <td>0.000046</td>\n",
       "      <td>0.000260</td>\n",
       "      <td>9.143096e-06</td>\n",
       "      <td>0.1</td>\n",
       "      <td>0.001</td>\n",
       "      <td>rbf</td>\n",
       "      <td>{'C': 0.1, 'gamma': 0.001, 'kernel': 'rbf'}</td>\n",
       "      <td>0.684211</td>\n",
       "      <td>0.555556</td>\n",
       "      <td>...</td>\n",
       "      <td>0.614620</td>\n",
       "      <td>0.053928</td>\n",
       "      <td>23</td>\n",
       "      <td>0.652778</td>\n",
       "      <td>0.698630</td>\n",
       "      <td>0.589041</td>\n",
       "      <td>0.575342</td>\n",
       "      <td>0.643836</td>\n",
       "      <td>0.631925</td>\n",
       "      <td>0.044871</td>\n",
       "    </tr>\n",
       "    <tr>\n",
       "      <th>4</th>\n",
       "      <td>0.005743</td>\n",
       "      <td>0.001761</td>\n",
       "      <td>0.000423</td>\n",
       "      <td>6.458505e-05</td>\n",
       "      <td>0.1</td>\n",
       "      <td>0.0001</td>\n",
       "      <td>linear</td>\n",
       "      <td>{'C': 0.1, 'gamma': 0.0001, 'kernel': 'linear'}</td>\n",
       "      <td>0.947368</td>\n",
       "      <td>1.000000</td>\n",
       "      <td>...</td>\n",
       "      <td>0.989474</td>\n",
       "      <td>0.021053</td>\n",
       "      <td>1</td>\n",
       "      <td>1.000000</td>\n",
       "      <td>0.986301</td>\n",
       "      <td>0.986301</td>\n",
       "      <td>0.986301</td>\n",
       "      <td>0.986301</td>\n",
       "      <td>0.989041</td>\n",
       "      <td>0.005479</td>\n",
       "    </tr>\n",
       "    <tr>\n",
       "      <th>5</th>\n",
       "      <td>0.000590</td>\n",
       "      <td>0.000089</td>\n",
       "      <td>0.000382</td>\n",
       "      <td>6.815786e-05</td>\n",
       "      <td>0.1</td>\n",
       "      <td>0.0001</td>\n",
       "      <td>rbf</td>\n",
       "      <td>{'C': 0.1, 'gamma': 0.0001, 'kernel': 'rbf'}</td>\n",
       "      <td>0.894737</td>\n",
       "      <td>0.888889</td>\n",
       "      <td>...</td>\n",
       "      <td>0.934503</td>\n",
       "      <td>0.053521</td>\n",
       "      <td>16</td>\n",
       "      <td>0.972222</td>\n",
       "      <td>0.945205</td>\n",
       "      <td>0.945205</td>\n",
       "      <td>0.958904</td>\n",
       "      <td>0.958904</td>\n",
       "      <td>0.956088</td>\n",
       "      <td>0.010129</td>\n",
       "    </tr>\n",
       "    <tr>\n",
       "      <th>6</th>\n",
       "      <td>0.016109</td>\n",
       "      <td>0.004007</td>\n",
       "      <td>0.000431</td>\n",
       "      <td>9.645210e-05</td>\n",
       "      <td>1</td>\n",
       "      <td>0.01</td>\n",
       "      <td>linear</td>\n",
       "      <td>{'C': 1, 'gamma': 0.01, 'kernel': 'linear'}</td>\n",
       "      <td>0.947368</td>\n",
       "      <td>1.000000</td>\n",
       "      <td>...</td>\n",
       "      <td>0.989474</td>\n",
       "      <td>0.021053</td>\n",
       "      <td>1</td>\n",
       "      <td>1.000000</td>\n",
       "      <td>0.986301</td>\n",
       "      <td>0.986301</td>\n",
       "      <td>0.986301</td>\n",
       "      <td>0.986301</td>\n",
       "      <td>0.989041</td>\n",
       "      <td>0.005479</td>\n",
       "    </tr>\n",
       "    <tr>\n",
       "      <th>7</th>\n",
       "      <td>0.000625</td>\n",
       "      <td>0.000152</td>\n",
       "      <td>0.000302</td>\n",
       "      <td>5.431604e-05</td>\n",
       "      <td>1</td>\n",
       "      <td>0.01</td>\n",
       "      <td>rbf</td>\n",
       "      <td>{'C': 1, 'gamma': 0.01, 'kernel': 'rbf'}</td>\n",
       "      <td>0.789474</td>\n",
       "      <td>0.666667</td>\n",
       "      <td>...</td>\n",
       "      <td>0.746784</td>\n",
       "      <td>0.067987</td>\n",
       "      <td>22</td>\n",
       "      <td>0.986111</td>\n",
       "      <td>1.000000</td>\n",
       "      <td>0.986301</td>\n",
       "      <td>0.986301</td>\n",
       "      <td>1.000000</td>\n",
       "      <td>0.991743</td>\n",
       "      <td>0.006742</td>\n",
       "    </tr>\n",
       "    <tr>\n",
       "      <th>8</th>\n",
       "      <td>0.015005</td>\n",
       "      <td>0.004393</td>\n",
       "      <td>0.000307</td>\n",
       "      <td>2.810444e-05</td>\n",
       "      <td>1</td>\n",
       "      <td>0.001</td>\n",
       "      <td>linear</td>\n",
       "      <td>{'C': 1, 'gamma': 0.001, 'kernel': 'linear'}</td>\n",
       "      <td>0.947368</td>\n",
       "      <td>1.000000</td>\n",
       "      <td>...</td>\n",
       "      <td>0.989474</td>\n",
       "      <td>0.021053</td>\n",
       "      <td>1</td>\n",
       "      <td>1.000000</td>\n",
       "      <td>0.986301</td>\n",
       "      <td>0.986301</td>\n",
       "      <td>0.986301</td>\n",
       "      <td>0.986301</td>\n",
       "      <td>0.989041</td>\n",
       "      <td>0.005479</td>\n",
       "    </tr>\n",
       "    <tr>\n",
       "      <th>9</th>\n",
       "      <td>0.000455</td>\n",
       "      <td>0.000010</td>\n",
       "      <td>0.000234</td>\n",
       "      <td>8.476443e-07</td>\n",
       "      <td>1</td>\n",
       "      <td>0.001</td>\n",
       "      <td>rbf</td>\n",
       "      <td>{'C': 1, 'gamma': 0.001, 'kernel': 'rbf'}</td>\n",
       "      <td>0.842105</td>\n",
       "      <td>0.944444</td>\n",
       "      <td>...</td>\n",
       "      <td>0.935088</td>\n",
       "      <td>0.062121</td>\n",
       "      <td>15</td>\n",
       "      <td>0.986111</td>\n",
       "      <td>0.986301</td>\n",
       "      <td>0.958904</td>\n",
       "      <td>0.958904</td>\n",
       "      <td>0.986301</td>\n",
       "      <td>0.975304</td>\n",
       "      <td>0.013391</td>\n",
       "    </tr>\n",
       "    <tr>\n",
       "      <th>10</th>\n",
       "      <td>0.015713</td>\n",
       "      <td>0.005238</td>\n",
       "      <td>0.000375</td>\n",
       "      <td>1.245700e-04</td>\n",
       "      <td>1</td>\n",
       "      <td>0.0001</td>\n",
       "      <td>linear</td>\n",
       "      <td>{'C': 1, 'gamma': 0.0001, 'kernel': 'linear'}</td>\n",
       "      <td>0.947368</td>\n",
       "      <td>1.000000</td>\n",
       "      <td>...</td>\n",
       "      <td>0.989474</td>\n",
       "      <td>0.021053</td>\n",
       "      <td>1</td>\n",
       "      <td>1.000000</td>\n",
       "      <td>0.986301</td>\n",
       "      <td>0.986301</td>\n",
       "      <td>0.986301</td>\n",
       "      <td>0.986301</td>\n",
       "      <td>0.989041</td>\n",
       "      <td>0.005479</td>\n",
       "    </tr>\n",
       "    <tr>\n",
       "      <th>11</th>\n",
       "      <td>0.000348</td>\n",
       "      <td>0.000008</td>\n",
       "      <td>0.000221</td>\n",
       "      <td>1.892989e-06</td>\n",
       "      <td>1</td>\n",
       "      <td>0.0001</td>\n",
       "      <td>rbf</td>\n",
       "      <td>{'C': 1, 'gamma': 0.0001, 'kernel': 'rbf'}</td>\n",
       "      <td>0.894737</td>\n",
       "      <td>0.944444</td>\n",
       "      <td>...</td>\n",
       "      <td>0.956725</td>\n",
       "      <td>0.039723</td>\n",
       "      <td>13</td>\n",
       "      <td>0.972222</td>\n",
       "      <td>0.958904</td>\n",
       "      <td>0.945205</td>\n",
       "      <td>0.945205</td>\n",
       "      <td>0.972603</td>\n",
       "      <td>0.958828</td>\n",
       "      <td>0.012168</td>\n",
       "    </tr>\n",
       "    <tr>\n",
       "      <th>12</th>\n",
       "      <td>0.048236</td>\n",
       "      <td>0.021925</td>\n",
       "      <td>0.000290</td>\n",
       "      <td>3.958622e-05</td>\n",
       "      <td>10</td>\n",
       "      <td>0.01</td>\n",
       "      <td>linear</td>\n",
       "      <td>{'C': 10, 'gamma': 0.01, 'kernel': 'linear'}</td>\n",
       "      <td>0.947368</td>\n",
       "      <td>1.000000</td>\n",
       "      <td>...</td>\n",
       "      <td>0.989474</td>\n",
       "      <td>0.021053</td>\n",
       "      <td>1</td>\n",
       "      <td>1.000000</td>\n",
       "      <td>1.000000</td>\n",
       "      <td>1.000000</td>\n",
       "      <td>1.000000</td>\n",
       "      <td>1.000000</td>\n",
       "      <td>1.000000</td>\n",
       "      <td>0.000000</td>\n",
       "    </tr>\n",
       "    <tr>\n",
       "      <th>13</th>\n",
       "      <td>0.000453</td>\n",
       "      <td>0.000014</td>\n",
       "      <td>0.000237</td>\n",
       "      <td>3.466839e-06</td>\n",
       "      <td>10</td>\n",
       "      <td>0.01</td>\n",
       "      <td>rbf</td>\n",
       "      <td>{'C': 10, 'gamma': 0.01, 'kernel': 'rbf'}</td>\n",
       "      <td>0.789474</td>\n",
       "      <td>0.722222</td>\n",
       "      <td>...</td>\n",
       "      <td>0.769006</td>\n",
       "      <td>0.108069</td>\n",
       "      <td>20</td>\n",
       "      <td>1.000000</td>\n",
       "      <td>1.000000</td>\n",
       "      <td>1.000000</td>\n",
       "      <td>1.000000</td>\n",
       "      <td>1.000000</td>\n",
       "      <td>1.000000</td>\n",
       "      <td>0.000000</td>\n",
       "    </tr>\n",
       "    <tr>\n",
       "      <th>14</th>\n",
       "      <td>0.053532</td>\n",
       "      <td>0.025435</td>\n",
       "      <td>0.000346</td>\n",
       "      <td>6.647127e-05</td>\n",
       "      <td>10</td>\n",
       "      <td>0.001</td>\n",
       "      <td>linear</td>\n",
       "      <td>{'C': 10, 'gamma': 0.001, 'kernel': 'linear'}</td>\n",
       "      <td>0.947368</td>\n",
       "      <td>1.000000</td>\n",
       "      <td>...</td>\n",
       "      <td>0.989474</td>\n",
       "      <td>0.021053</td>\n",
       "      <td>1</td>\n",
       "      <td>1.000000</td>\n",
       "      <td>1.000000</td>\n",
       "      <td>1.000000</td>\n",
       "      <td>1.000000</td>\n",
       "      <td>1.000000</td>\n",
       "      <td>1.000000</td>\n",
       "      <td>0.000000</td>\n",
       "    </tr>\n",
       "    <tr>\n",
       "      <th>15</th>\n",
       "      <td>0.000589</td>\n",
       "      <td>0.000180</td>\n",
       "      <td>0.000374</td>\n",
       "      <td>1.177745e-04</td>\n",
       "      <td>10</td>\n",
       "      <td>0.001</td>\n",
       "      <td>rbf</td>\n",
       "      <td>{'C': 10, 'gamma': 0.001, 'kernel': 'rbf'}</td>\n",
       "      <td>0.842105</td>\n",
       "      <td>0.888889</td>\n",
       "      <td>...</td>\n",
       "      <td>0.923977</td>\n",
       "      <td>0.064381</td>\n",
       "      <td>17</td>\n",
       "      <td>0.986111</td>\n",
       "      <td>1.000000</td>\n",
       "      <td>0.986301</td>\n",
       "      <td>0.986301</td>\n",
       "      <td>1.000000</td>\n",
       "      <td>0.991743</td>\n",
       "      <td>0.006742</td>\n",
       "    </tr>\n",
       "    <tr>\n",
       "      <th>16</th>\n",
       "      <td>0.048584</td>\n",
       "      <td>0.021562</td>\n",
       "      <td>0.000382</td>\n",
       "      <td>1.131378e-04</td>\n",
       "      <td>10</td>\n",
       "      <td>0.0001</td>\n",
       "      <td>linear</td>\n",
       "      <td>{'C': 10, 'gamma': 0.0001, 'kernel': 'linear'}</td>\n",
       "      <td>0.947368</td>\n",
       "      <td>1.000000</td>\n",
       "      <td>...</td>\n",
       "      <td>0.989474</td>\n",
       "      <td>0.021053</td>\n",
       "      <td>1</td>\n",
       "      <td>1.000000</td>\n",
       "      <td>1.000000</td>\n",
       "      <td>1.000000</td>\n",
       "      <td>1.000000</td>\n",
       "      <td>1.000000</td>\n",
       "      <td>1.000000</td>\n",
       "      <td>0.000000</td>\n",
       "    </tr>\n",
       "    <tr>\n",
       "      <th>17</th>\n",
       "      <td>0.000344</td>\n",
       "      <td>0.000010</td>\n",
       "      <td>0.000227</td>\n",
       "      <td>1.421535e-05</td>\n",
       "      <td>10</td>\n",
       "      <td>0.0001</td>\n",
       "      <td>rbf</td>\n",
       "      <td>{'C': 10, 'gamma': 0.0001, 'kernel': 'rbf'}</td>\n",
       "      <td>0.789474</td>\n",
       "      <td>0.944444</td>\n",
       "      <td>...</td>\n",
       "      <td>0.935673</td>\n",
       "      <td>0.077206</td>\n",
       "      <td>14</td>\n",
       "      <td>0.986111</td>\n",
       "      <td>0.972603</td>\n",
       "      <td>0.958904</td>\n",
       "      <td>0.958904</td>\n",
       "      <td>0.972603</td>\n",
       "      <td>0.969825</td>\n",
       "      <td>0.010190</td>\n",
       "    </tr>\n",
       "    <tr>\n",
       "      <th>18</th>\n",
       "      <td>0.046703</td>\n",
       "      <td>0.021341</td>\n",
       "      <td>0.000244</td>\n",
       "      <td>1.748348e-05</td>\n",
       "      <td>100</td>\n",
       "      <td>0.01</td>\n",
       "      <td>linear</td>\n",
       "      <td>{'C': 100, 'gamma': 0.01, 'kernel': 'linear'}</td>\n",
       "      <td>0.947368</td>\n",
       "      <td>1.000000</td>\n",
       "      <td>...</td>\n",
       "      <td>0.989474</td>\n",
       "      <td>0.021053</td>\n",
       "      <td>1</td>\n",
       "      <td>1.000000</td>\n",
       "      <td>1.000000</td>\n",
       "      <td>1.000000</td>\n",
       "      <td>1.000000</td>\n",
       "      <td>1.000000</td>\n",
       "      <td>1.000000</td>\n",
       "      <td>0.000000</td>\n",
       "    </tr>\n",
       "    <tr>\n",
       "      <th>19</th>\n",
       "      <td>0.000458</td>\n",
       "      <td>0.000023</td>\n",
       "      <td>0.000246</td>\n",
       "      <td>1.188789e-05</td>\n",
       "      <td>100</td>\n",
       "      <td>0.01</td>\n",
       "      <td>rbf</td>\n",
       "      <td>{'C': 100, 'gamma': 0.01, 'kernel': 'rbf'}</td>\n",
       "      <td>0.789474</td>\n",
       "      <td>0.722222</td>\n",
       "      <td>...</td>\n",
       "      <td>0.769006</td>\n",
       "      <td>0.108069</td>\n",
       "      <td>20</td>\n",
       "      <td>1.000000</td>\n",
       "      <td>1.000000</td>\n",
       "      <td>1.000000</td>\n",
       "      <td>1.000000</td>\n",
       "      <td>1.000000</td>\n",
       "      <td>1.000000</td>\n",
       "      <td>0.000000</td>\n",
       "    </tr>\n",
       "    <tr>\n",
       "      <th>20</th>\n",
       "      <td>0.052340</td>\n",
       "      <td>0.024542</td>\n",
       "      <td>0.000426</td>\n",
       "      <td>1.538896e-04</td>\n",
       "      <td>100</td>\n",
       "      <td>0.001</td>\n",
       "      <td>linear</td>\n",
       "      <td>{'C': 100, 'gamma': 0.001, 'kernel': 'linear'}</td>\n",
       "      <td>0.947368</td>\n",
       "      <td>1.000000</td>\n",
       "      <td>...</td>\n",
       "      <td>0.989474</td>\n",
       "      <td>0.021053</td>\n",
       "      <td>1</td>\n",
       "      <td>1.000000</td>\n",
       "      <td>1.000000</td>\n",
       "      <td>1.000000</td>\n",
       "      <td>1.000000</td>\n",
       "      <td>1.000000</td>\n",
       "      <td>1.000000</td>\n",
       "      <td>0.000000</td>\n",
       "    </tr>\n",
       "    <tr>\n",
       "      <th>21</th>\n",
       "      <td>0.000499</td>\n",
       "      <td>0.000049</td>\n",
       "      <td>0.000276</td>\n",
       "      <td>8.272013e-05</td>\n",
       "      <td>100</td>\n",
       "      <td>0.001</td>\n",
       "      <td>rbf</td>\n",
       "      <td>{'C': 100, 'gamma': 0.001, 'kernel': 'rbf'}</td>\n",
       "      <td>0.789474</td>\n",
       "      <td>0.888889</td>\n",
       "      <td>...</td>\n",
       "      <td>0.902339</td>\n",
       "      <td>0.085740</td>\n",
       "      <td>19</td>\n",
       "      <td>1.000000</td>\n",
       "      <td>1.000000</td>\n",
       "      <td>1.000000</td>\n",
       "      <td>1.000000</td>\n",
       "      <td>1.000000</td>\n",
       "      <td>1.000000</td>\n",
       "      <td>0.000000</td>\n",
       "    </tr>\n",
       "    <tr>\n",
       "      <th>22</th>\n",
       "      <td>0.047951</td>\n",
       "      <td>0.020528</td>\n",
       "      <td>0.000313</td>\n",
       "      <td>1.636851e-05</td>\n",
       "      <td>100</td>\n",
       "      <td>0.0001</td>\n",
       "      <td>linear</td>\n",
       "      <td>{'C': 100, 'gamma': 0.0001, 'kernel': 'linear'}</td>\n",
       "      <td>0.947368</td>\n",
       "      <td>1.000000</td>\n",
       "      <td>...</td>\n",
       "      <td>0.989474</td>\n",
       "      <td>0.021053</td>\n",
       "      <td>1</td>\n",
       "      <td>1.000000</td>\n",
       "      <td>1.000000</td>\n",
       "      <td>1.000000</td>\n",
       "      <td>1.000000</td>\n",
       "      <td>1.000000</td>\n",
       "      <td>1.000000</td>\n",
       "      <td>0.000000</td>\n",
       "    </tr>\n",
       "    <tr>\n",
       "      <th>23</th>\n",
       "      <td>0.000348</td>\n",
       "      <td>0.000018</td>\n",
       "      <td>0.000218</td>\n",
       "      <td>9.122432e-07</td>\n",
       "      <td>100</td>\n",
       "      <td>0.0001</td>\n",
       "      <td>rbf</td>\n",
       "      <td>{'C': 100, 'gamma': 0.0001, 'kernel': 'rbf'}</td>\n",
       "      <td>0.789474</td>\n",
       "      <td>0.888889</td>\n",
       "      <td>...</td>\n",
       "      <td>0.913450</td>\n",
       "      <td>0.079446</td>\n",
       "      <td>18</td>\n",
       "      <td>0.986111</td>\n",
       "      <td>0.986301</td>\n",
       "      <td>0.972603</td>\n",
       "      <td>0.972603</td>\n",
       "      <td>0.986301</td>\n",
       "      <td>0.980784</td>\n",
       "      <td>0.006680</td>\n",
       "    </tr>\n",
       "  </tbody>\n",
       "</table>\n",
       "<p>24 rows × 23 columns</p>\n",
       "</div>"
      ],
      "text/plain": [
       "    mean_fit_time  std_fit_time  mean_score_time  std_score_time param_C  \\\n",
       "0        0.004056      0.001878         0.000436    1.714597e-04     0.1   \n",
       "1        0.000493      0.000019         0.000300    4.582512e-05     0.1   \n",
       "2        0.004158      0.001393         0.000374    1.296407e-04     0.1   \n",
       "3        0.000469      0.000046         0.000260    9.143096e-06     0.1   \n",
       "4        0.005743      0.001761         0.000423    6.458505e-05     0.1   \n",
       "5        0.000590      0.000089         0.000382    6.815786e-05     0.1   \n",
       "6        0.016109      0.004007         0.000431    9.645210e-05       1   \n",
       "7        0.000625      0.000152         0.000302    5.431604e-05       1   \n",
       "8        0.015005      0.004393         0.000307    2.810444e-05       1   \n",
       "9        0.000455      0.000010         0.000234    8.476443e-07       1   \n",
       "10       0.015713      0.005238         0.000375    1.245700e-04       1   \n",
       "11       0.000348      0.000008         0.000221    1.892989e-06       1   \n",
       "12       0.048236      0.021925         0.000290    3.958622e-05      10   \n",
       "13       0.000453      0.000014         0.000237    3.466839e-06      10   \n",
       "14       0.053532      0.025435         0.000346    6.647127e-05      10   \n",
       "15       0.000589      0.000180         0.000374    1.177745e-04      10   \n",
       "16       0.048584      0.021562         0.000382    1.131378e-04      10   \n",
       "17       0.000344      0.000010         0.000227    1.421535e-05      10   \n",
       "18       0.046703      0.021341         0.000244    1.748348e-05     100   \n",
       "19       0.000458      0.000023         0.000246    1.188789e-05     100   \n",
       "20       0.052340      0.024542         0.000426    1.538896e-04     100   \n",
       "21       0.000499      0.000049         0.000276    8.272013e-05     100   \n",
       "22       0.047951      0.020528         0.000313    1.636851e-05     100   \n",
       "23       0.000348      0.000018         0.000218    9.122432e-07     100   \n",
       "\n",
       "   param_gamma param_kernel                                           params  \\\n",
       "0         0.01       linear    {'C': 0.1, 'gamma': 0.01, 'kernel': 'linear'}   \n",
       "1         0.01          rbf       {'C': 0.1, 'gamma': 0.01, 'kernel': 'rbf'}   \n",
       "2        0.001       linear   {'C': 0.1, 'gamma': 0.001, 'kernel': 'linear'}   \n",
       "3        0.001          rbf      {'C': 0.1, 'gamma': 0.001, 'kernel': 'rbf'}   \n",
       "4       0.0001       linear  {'C': 0.1, 'gamma': 0.0001, 'kernel': 'linear'}   \n",
       "5       0.0001          rbf     {'C': 0.1, 'gamma': 0.0001, 'kernel': 'rbf'}   \n",
       "6         0.01       linear      {'C': 1, 'gamma': 0.01, 'kernel': 'linear'}   \n",
       "7         0.01          rbf         {'C': 1, 'gamma': 0.01, 'kernel': 'rbf'}   \n",
       "8        0.001       linear     {'C': 1, 'gamma': 0.001, 'kernel': 'linear'}   \n",
       "9        0.001          rbf        {'C': 1, 'gamma': 0.001, 'kernel': 'rbf'}   \n",
       "10      0.0001       linear    {'C': 1, 'gamma': 0.0001, 'kernel': 'linear'}   \n",
       "11      0.0001          rbf       {'C': 1, 'gamma': 0.0001, 'kernel': 'rbf'}   \n",
       "12        0.01       linear     {'C': 10, 'gamma': 0.01, 'kernel': 'linear'}   \n",
       "13        0.01          rbf        {'C': 10, 'gamma': 0.01, 'kernel': 'rbf'}   \n",
       "14       0.001       linear    {'C': 10, 'gamma': 0.001, 'kernel': 'linear'}   \n",
       "15       0.001          rbf       {'C': 10, 'gamma': 0.001, 'kernel': 'rbf'}   \n",
       "16      0.0001       linear   {'C': 10, 'gamma': 0.0001, 'kernel': 'linear'}   \n",
       "17      0.0001          rbf      {'C': 10, 'gamma': 0.0001, 'kernel': 'rbf'}   \n",
       "18        0.01       linear    {'C': 100, 'gamma': 0.01, 'kernel': 'linear'}   \n",
       "19        0.01          rbf       {'C': 100, 'gamma': 0.01, 'kernel': 'rbf'}   \n",
       "20       0.001       linear   {'C': 100, 'gamma': 0.001, 'kernel': 'linear'}   \n",
       "21       0.001          rbf      {'C': 100, 'gamma': 0.001, 'kernel': 'rbf'}   \n",
       "22      0.0001       linear  {'C': 100, 'gamma': 0.0001, 'kernel': 'linear'}   \n",
       "23      0.0001          rbf     {'C': 100, 'gamma': 0.0001, 'kernel': 'rbf'}   \n",
       "\n",
       "    split0_test_score  split1_test_score  ...  mean_test_score  \\\n",
       "0            0.947368           1.000000  ...         0.989474   \n",
       "1            0.578947           0.555556  ...         0.571345   \n",
       "2            0.947368           1.000000  ...         0.989474   \n",
       "3            0.684211           0.555556  ...         0.614620   \n",
       "4            0.947368           1.000000  ...         0.989474   \n",
       "5            0.894737           0.888889  ...         0.934503   \n",
       "6            0.947368           1.000000  ...         0.989474   \n",
       "7            0.789474           0.666667  ...         0.746784   \n",
       "8            0.947368           1.000000  ...         0.989474   \n",
       "9            0.842105           0.944444  ...         0.935088   \n",
       "10           0.947368           1.000000  ...         0.989474   \n",
       "11           0.894737           0.944444  ...         0.956725   \n",
       "12           0.947368           1.000000  ...         0.989474   \n",
       "13           0.789474           0.722222  ...         0.769006   \n",
       "14           0.947368           1.000000  ...         0.989474   \n",
       "15           0.842105           0.888889  ...         0.923977   \n",
       "16           0.947368           1.000000  ...         0.989474   \n",
       "17           0.789474           0.944444  ...         0.935673   \n",
       "18           0.947368           1.000000  ...         0.989474   \n",
       "19           0.789474           0.722222  ...         0.769006   \n",
       "20           0.947368           1.000000  ...         0.989474   \n",
       "21           0.789474           0.888889  ...         0.902339   \n",
       "22           0.947368           1.000000  ...         0.989474   \n",
       "23           0.789474           0.888889  ...         0.913450   \n",
       "\n",
       "    std_test_score  rank_test_score  split0_train_score  split1_train_score  \\\n",
       "0         0.021053                1            1.000000            0.986301   \n",
       "1         0.021850               24            0.569444            0.575342   \n",
       "2         0.021053                1            1.000000            0.986301   \n",
       "3         0.053928               23            0.652778            0.698630   \n",
       "4         0.021053                1            1.000000            0.986301   \n",
       "5         0.053521               16            0.972222            0.945205   \n",
       "6         0.021053                1            1.000000            0.986301   \n",
       "7         0.067987               22            0.986111            1.000000   \n",
       "8         0.021053                1            1.000000            0.986301   \n",
       "9         0.062121               15            0.986111            0.986301   \n",
       "10        0.021053                1            1.000000            0.986301   \n",
       "11        0.039723               13            0.972222            0.958904   \n",
       "12        0.021053                1            1.000000            1.000000   \n",
       "13        0.108069               20            1.000000            1.000000   \n",
       "14        0.021053                1            1.000000            1.000000   \n",
       "15        0.064381               17            0.986111            1.000000   \n",
       "16        0.021053                1            1.000000            1.000000   \n",
       "17        0.077206               14            0.986111            0.972603   \n",
       "18        0.021053                1            1.000000            1.000000   \n",
       "19        0.108069               20            1.000000            1.000000   \n",
       "20        0.021053                1            1.000000            1.000000   \n",
       "21        0.085740               19            1.000000            1.000000   \n",
       "22        0.021053                1            1.000000            1.000000   \n",
       "23        0.079446               18            0.986111            0.986301   \n",
       "\n",
       "    split2_train_score  split3_train_score  split4_train_score  \\\n",
       "0             0.986301            0.986301            0.986301   \n",
       "1             0.575342            0.575342            0.561644   \n",
       "2             0.986301            0.986301            0.986301   \n",
       "3             0.589041            0.575342            0.643836   \n",
       "4             0.986301            0.986301            0.986301   \n",
       "5             0.945205            0.958904            0.958904   \n",
       "6             0.986301            0.986301            0.986301   \n",
       "7             0.986301            0.986301            1.000000   \n",
       "8             0.986301            0.986301            0.986301   \n",
       "9             0.958904            0.958904            0.986301   \n",
       "10            0.986301            0.986301            0.986301   \n",
       "11            0.945205            0.945205            0.972603   \n",
       "12            1.000000            1.000000            1.000000   \n",
       "13            1.000000            1.000000            1.000000   \n",
       "14            1.000000            1.000000            1.000000   \n",
       "15            0.986301            0.986301            1.000000   \n",
       "16            1.000000            1.000000            1.000000   \n",
       "17            0.958904            0.958904            0.972603   \n",
       "18            1.000000            1.000000            1.000000   \n",
       "19            1.000000            1.000000            1.000000   \n",
       "20            1.000000            1.000000            1.000000   \n",
       "21            1.000000            1.000000            1.000000   \n",
       "22            1.000000            1.000000            1.000000   \n",
       "23            0.972603            0.972603            0.986301   \n",
       "\n",
       "    mean_train_score  std_train_score  \n",
       "0           0.989041         0.005479  \n",
       "1           0.571423         0.005397  \n",
       "2           0.989041         0.005479  \n",
       "3           0.631925         0.044871  \n",
       "4           0.989041         0.005479  \n",
       "5           0.956088         0.010129  \n",
       "6           0.989041         0.005479  \n",
       "7           0.991743         0.006742  \n",
       "8           0.989041         0.005479  \n",
       "9           0.975304         0.013391  \n",
       "10          0.989041         0.005479  \n",
       "11          0.958828         0.012168  \n",
       "12          1.000000         0.000000  \n",
       "13          1.000000         0.000000  \n",
       "14          1.000000         0.000000  \n",
       "15          0.991743         0.006742  \n",
       "16          1.000000         0.000000  \n",
       "17          0.969825         0.010190  \n",
       "18          1.000000         0.000000  \n",
       "19          1.000000         0.000000  \n",
       "20          1.000000         0.000000  \n",
       "21          1.000000         0.000000  \n",
       "22          1.000000         0.000000  \n",
       "23          0.980784         0.006680  \n",
       "\n",
       "[24 rows x 23 columns]"
      ]
     },
     "execution_count": 76,
     "metadata": {},
     "output_type": "execute_result"
    }
   ],
   "source": [
    "pd.DataFrame(clf.cv_results_ )"
   ]
  },
  {
   "cell_type": "markdown",
   "metadata": {},
   "source": [
    "`best_params_`: Parameter setting that gave the best results on the hold out data."
   ]
  },
  {
   "cell_type": "code",
   "execution_count": 77,
   "metadata": {},
   "outputs": [
    {
     "data": {
      "text/plain": [
       "{'C': 0.1, 'gamma': 0.01, 'kernel': 'linear'}"
      ]
     },
     "execution_count": 77,
     "metadata": {},
     "output_type": "execute_result"
    }
   ],
   "source": [
    "clf.best_params_"
   ]
  },
  {
   "cell_type": "markdown",
   "metadata": {},
   "source": [
    "`best_estimator_`: Estimator that was chosen by the search, i.e. estimator which gave highest score (or smallest loss if specified) on the left out data. "
   ]
  },
  {
   "cell_type": "code",
   "execution_count": 78,
   "metadata": {},
   "outputs": [
    {
     "data": {
      "text/plain": [
       "SVC(C=0.1, break_ties=False, cache_size=200, class_weight=None, coef0=0.0,\n",
       "    decision_function_shape='ovr', degree=3, gamma=0.01, kernel='linear',\n",
       "    max_iter=-1, probability=False, random_state=None, shrinking=True,\n",
       "    tol=0.001, verbose=False)"
      ]
     },
     "execution_count": 78,
     "metadata": {},
     "output_type": "execute_result"
    }
   ],
   "source": [
    "clf.best_estimator_"
   ]
  },
  {
   "cell_type": "markdown",
   "metadata": {},
   "source": [
    "`best_score_`: Mean cross-validated score of the best_estimator"
   ]
  },
  {
   "cell_type": "code",
   "execution_count": 79,
   "metadata": {},
   "outputs": [
    {
     "data": {
      "text/plain": [
       "0.9894736842105264"
      ]
     },
     "execution_count": 79,
     "metadata": {},
     "output_type": "execute_result"
    }
   ],
   "source": [
    "clf.best_score_ "
   ]
  },
  {
   "cell_type": "markdown",
   "metadata": {},
   "source": [
    "### Model preditction"
   ]
  },
  {
   "cell_type": "code",
   "execution_count": 80,
   "metadata": {},
   "outputs": [
    {
     "data": {
      "text/plain": [
       "array([0, 0, 0, 0, 1, 0, 1, 1, 1, 0, 1, 0, 1, 1, 1, 1, 0, 1, 1, 1, 0, 0,\n",
       "       1, 0, 1, 0, 1, 1, 0, 0, 0, 0, 0, 0, 1, 1, 1, 0, 1])"
      ]
     },
     "execution_count": 80,
     "metadata": {},
     "output_type": "execute_result"
    }
   ],
   "source": [
    "y_pred = clf.best_estimator_.predict(X_test)\n",
    "y_pred"
   ]
  },
  {
   "cell_type": "markdown",
   "metadata": {},
   "source": [
    "### Model evaluation"
   ]
  },
  {
   "cell_type": "markdown",
   "metadata": {},
   "source": [
    "**Accuracy**"
   ]
  },
  {
   "cell_type": "code",
   "execution_count": 81,
   "metadata": {},
   "outputs": [
    {
     "data": {
      "text/plain": [
       "0.9743589743589743"
      ]
     },
     "execution_count": 81,
     "metadata": {},
     "output_type": "execute_result"
    }
   ],
   "source": [
    "from sklearn.metrics import accuracy_score\n",
    "accuracy_score(y_pred, y_test)"
   ]
  },
  {
   "cell_type": "markdown",
   "metadata": {},
   "source": [
    "**Confusion matrix**"
   ]
  },
  {
   "cell_type": "code",
   "execution_count": 82,
   "metadata": {},
   "outputs": [
    {
     "data": {
      "text/plain": [
       "array([[19,  1],\n",
       "       [ 0, 19]])"
      ]
     },
     "execution_count": 82,
     "metadata": {},
     "output_type": "execute_result"
    }
   ],
   "source": [
    "from sklearn.metrics import confusion_matrix\n",
    "cnf_matrix = confusion_matrix(y_test, y_pred)\n",
    "cnf_matrix"
   ]
  },
  {
   "cell_type": "code",
   "execution_count": 83,
   "metadata": {},
   "outputs": [
    {
     "name": "stdout",
     "output_type": "stream",
     "text": [
      "Confusion matrix, without normalization\n"
     ]
    },
    {
     "data": {
      "image/png": "[encoded data removed]",
      "text/plain": [
       "<Figure size 432x288 with 2 Axes>"
      ]
     },
     "metadata": {
      "needs_background": "light"
     },
     "output_type": "display_data"
    }
   ],
   "source": [
    "# Plot non-normalized confusion matrix\n",
    "hf.plot_confusion_matrix(cnf_matrix, classes=[\"class 0\", \"class 1\"],\n",
    "                      title='Confusion matrix, without normalization')"
   ]
  },
  {
   "cell_type": "markdown",
   "metadata": {},
   "source": [
    "**Selected classification metrics**\n",
    "\n",
    "\\begin{equation} \n",
    "\\text{precision} = \\frac{TP}{TP+FP}\n",
    "\\end{equation}\n",
    "\n",
    "\\begin{equation} \n",
    "\\text{recall} = \\frac{TP}{TP+FN}\n",
    "\\end{equation}\n",
    "\n",
    "\\begin{equation} \n",
    "\\text{F1-score} = 2 \\times \\frac{\\text{precision} \\times \\text{recall}}{\\text{precision}+\\text{recall}}\n",
    "\\end{equation}"
   ]
  },
  {
   "cell_type": "code",
   "execution_count": 84,
   "metadata": {},
   "outputs": [
    {
     "name": "stdout",
     "output_type": "stream",
     "text": [
      "              precision    recall  f1-score   support\n",
      "\n",
      "           0       1.00      0.95      0.97        20\n",
      "           1       0.95      1.00      0.97        19\n",
      "\n",
      "    accuracy                           0.97        39\n",
      "   macro avg       0.97      0.97      0.97        39\n",
      "weighted avg       0.98      0.97      0.97        39\n",
      "\n"
     ]
    }
   ],
   "source": [
    "from sklearn.metrics import classification_report\n",
    "print(classification_report(y_test, y_pred))"
   ]
  },
  {
   "cell_type": "markdown",
   "metadata": {},
   "source": [
    "***"
   ]
  }
 ],
 "metadata": {
  "kernelspec": {
   "display_name": "Python 3",
   "language": "python",
   "name": "python3"
  },
  "language_info": {
   "codemirror_mode": {
    "name": "ipython",
    "version": 3
   },
   "file_extension": ".py",
   "mimetype": "text/x-python",
   "name": "python",
   "nbconvert_exporter": "python",
   "pygments_lexer": "ipython3",
   "version": "3.7.3"
  },
  "livereveal": {
   "scroll": true,
   "start_slideshow_at": "selected"
  }
 },
 "nbformat": 4,
 "nbformat_minor": 4
}
