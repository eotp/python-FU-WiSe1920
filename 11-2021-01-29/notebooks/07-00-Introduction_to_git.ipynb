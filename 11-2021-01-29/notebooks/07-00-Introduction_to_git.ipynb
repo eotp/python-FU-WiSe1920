{
 "cells": [
  {
   "cell_type": "markdown",
   "metadata": {},
   "source": [
    "# Version controll with git"
   ]
  },
  {
   "cell_type": "markdown",
   "metadata": {},
   "source": [
    "[Git](https://git-scm.com/) is a free and open source distributed version control system. It helps us to keep track of changes in documents, similar to Microsoft Word’s Track Changes or Google Docs’ version history, but still different :-).\n",
    "\n"
   ]
  },
  {
   "cell_type": "markdown",
   "metadata": {},
   "source": [
    "<img src=\"_img/phd101212s.png\">"
   ]
  },
  {
   "cell_type": "markdown",
   "metadata": {},
   "source": [
    "Version control systems start with a base version of the document and then record changes you make each step of the way. You can think of it as a recording of your progress: you can rewind to start at the base document and play back each change you made, eventually arriving at your more recent version."
   ]
  },
  {
   "cell_type": "markdown",
   "metadata": {},
   "source": [
    "## Installing git\n",
    "\n",
    "See for reference here:\n",
    "\n",
    "https://git-scm.com/book/en/v2/Getting-Started-Installing-Git\n",
    "\n",
    "In addition Windows user may consider the `git-bash` ([here](https://gitforwindows.org/))."
   ]
  },
  {
   "cell_type": "markdown",
   "metadata": {},
   "source": [
    "## Getting started with git"
   ]
  },
  {
   "cell_type": "markdown",
   "metadata": {},
   "source": [
    "When we use Git on a new computer for the first time, we need to configure a few things. On a command line, Git commands are written as `git verb options`, where `verb` is what we actually want to do and `options` is additional optional information which may be needed for the verb. "
   ]
  },
  {
   "cell_type": "markdown",
   "metadata": {},
   "source": [
    "### 1. Configure git so it knows about your Name (or Pseudonym) and Email Address\n",
    "\n",
    "\n",
    "`git config --global user.name \"Vlad Dracula\"`\n",
    "\n",
    "`git config --global user.email \"vlad@tran.sylvan.ia\"`"
   ]
  },
  {
   "cell_type": "markdown",
   "metadata": {},
   "source": [
    "### 2. Create an empty directory\n",
    "\n",
    "`mkdir gettingstarted`"
   ]
  },
  {
   "cell_type": "markdown",
   "metadata": {},
   "source": [
    "### 3. Open a shell prompt in this directory and initialize a new local git repository\n",
    "\n",
    "`git init`\n",
    "\n",
    "It is important to note that `git init` will create a repository that includes subdirectories and their files—there is no need to create separate repositories nested within the repository. \n",
    "\n",
    "Git creates a special subdirectory (`.git`) to store all the information about the project. If we ever delete the `.git` subdirectory, we will lose the project’s history.\n",
    "\n",
    "We can check that everything is set up correctly by asking Git to tell us the status of our project:\n",
    "\n",
    "`git status`"
   ]
  },
  {
   "cell_type": "markdown",
   "metadata": {},
   "source": [
    "### 4. Commits \n",
    "\n",
    "Let’s create a file called `mars.txt` that contains some notes about the Red Planet’s suitability as a base. \n",
    "\n",
    "    Cold and dry, but everything is my favorite color\n",
    "    \n",
    "If we check the status of our project again, Git tells us that it’s noticed the new file:\n",
    "\n",
    "`git status`\n",
    "\n",
    "\n",
    "The “untracked files” message means that there’s a file in the directory that Git isn’t keeping track of. We can tell Git to track a file using `git add`:\n",
    "\n",
    "`git add mars.txt`\n",
    "\n",
    "and then check that the right thing happened:\n",
    "\n",
    "`git status`\n",
    "\n",
    "\n",
    "Git now knows that it’s supposed to keep track of mars.txt, but it hasn’t recorded these changes as a commit yet. To get it to do that, we need to run one more command:\n",
    "\n",
    "`git commit -m \"Start notes on Mars as a base\"`\n",
    "\n",
    "When we run git commit, Git takes everything we have told it to save by using git add and stores a copy permanently inside the special `.git` directory. \n",
    "\n",
    "We use the `-m` flag (for “message”) to record a short, descriptive, and specific comment that will help us remember later on what we did and why. \n",
    "\n",
    "[Good commit messages](https://chris.beams.io/posts/git-commit/) start with a brief (<50 characters) statement about the changes made in the commit. Generally, the message should complete the sentence “If applied, this commit will”.\n",
    "\n",
    "`git status`\n",
    "\n",
    "it tells us everything is up to date. \n",
    "\n",
    "<img src=\"_img/git_add_commit.png\">"
   ]
  },
  {
   "cell_type": "markdown",
   "metadata": {},
   "source": [
    "### 5. Cloning a remote repository"
   ]
  },
  {
   "cell_type": "markdown",
   "metadata": {},
   "source": [
    "You can clone a remote repository to create a local copy on your computer and sync between the two locations.\n",
    "For instance, on GitHub, navigate to the main page of this [repository](https://github.com/eotp/python-FU-WiSe1920).\n",
    "\n",
    "\n",
    "1. Under the repository name, click `Clone or download`. We clone the repository using HTTPS, hence we pick click under \"Clone with HTTPS\".\n",
    "2. Open Terminal.\n",
    "3. Change the current working directory to the location where you want the cloned directory to be made.\n",
    "4. Type `git clone`, and then paste the URL you copied in Step 1.\n",
    "\n",
    "`git clone https://github.com/eotp/python-FU-WiSe1920`\n",
    "\n",
    "If you want the get sync your local copy with the remote repository type\n",
    "\n",
    "`git pull origin master`\n",
    "\n",
    "The process of getting changes from a remote repository is exlpained in more detail [here](https://help.github.com/en/github/using-git/getting-changes-from-a-remote-repository)\n"
   ]
  },
  {
   "cell_type": "markdown",
   "metadata": {},
   "source": [
    "### 6. Creating a branch"
   ]
  },
  {
   "cell_type": "markdown",
   "metadata": {},
   "source": [
    "A branch is a copy of your master branch. Before creating a new branch, pull the changes from upstream. Your master needs to be up to date.\n",
    "\n",
    "`git pull origin master`\n",
    "\n",
    "Create the branch on your local machine and switch in this branch :\n",
    "\n",
    "`git checkout -b [name_of_your_new_branch]`\n",
    "\n",
    "This is shorthand for:\n",
    "\n",
    "`git branch [name_of_your_new_branch]`\n",
    "\n",
    "`git checkout [name_of_your_new_branch]`\n",
    "\n",
    "You can see all the branches created by using:\n",
    "\n",
    "`git branch -a`\n",
    "\n",
    "In order to return to the master branch type\n",
    "\n",
    "`git checkout master` \n"
   ]
  },
  {
   "cell_type": "markdown",
   "metadata": {},
   "source": [
    "### 7. Delete a local branch\n",
    "\n",
    "To delete the local branch use one of the following:\n",
    "\n",
    "`git branch -d branch_name`\n",
    "\n",
    "`git branch -D branch_name`\n",
    "\n",
    "The `-d` option is an alias for `--delete`, which only deletes the branch if it has already been fully merged in its upstream branch. You could also use `-D`, which is an alias for `--delete` `--force`, which deletes the branch \"irrespective of its merged status.\""
   ]
  },
  {
   "cell_type": "markdown",
   "metadata": {},
   "source": [
    "### 8. Setting your master to exactly match the remote mastyer\n",
    "\n",
    "`git fetch origin/master`\n",
    "\n",
    "`git reset --hard origin/master`\n"
   ]
  },
  {
   "cell_type": "markdown",
   "metadata": {},
   "source": [
    "## Further references to learn git\n",
    "\n",
    "* https://git-scm.com/\n",
    "* https://swcarpentry.github.io/git-novice/\n",
    "* https://guides.github.com/introduction/git-handbook/\n",
    "* https://github.github.com/training-kit/\n",
    "\n",
    "***"
   ]
  }
 ],
 "metadata": {
  "kernelspec": {
   "display_name": "Python 3",
   "language": "python",
   "name": "python3"
  },
  "language_info": {
   "codemirror_mode": {
    "name": "ipython",
    "version": 3
   },
   "file_extension": ".py",
   "mimetype": "text/x-python",
   "name": "python",
   "nbconvert_exporter": "python",
   "pygments_lexer": "ipython3",
   "version": "3.7.3"
  }
 },
 "nbformat": 4,
 "nbformat_minor": 4
}
