{
 "cells": [
  {
   "cell_type": "markdown",
   "metadata": {},
   "source": [
    "# Python `class`"
   ]
  },
  {
   "cell_type": "markdown",
   "metadata": {},
   "source": [
    "Classes provide a means of bundling data and functionality together. Creating a new class creates a **new type of object**, allowing new **instances** of that type to be made. Each class instance can have **attributes** attached to it for maintaining its state. Class instances can also have **methods** (defined by its class) for modifying its state.\n",
    "\n",
    "Python classes provide all the standard features of **Object Oriented Programming**: \n",
    "* the class inheritance mechanism allows multiple base classes\n",
    "* a derived class can override any methods of its base class or classes, and \n",
    "* a method can call the method of a base class with the same name. \n",
    "\n",
    "Objects can contain arbitrary amounts and kinds of data. As is true for modules, classes partake of the dynamic nature of Python: they are created at runtime, and can be modified further after creation."
   ]
  },
  {
   "cell_type": "markdown",
   "metadata": {},
   "source": [
    "## A First Look at Classes\n",
    "\n",
    "Classes introduce a little bit of new syntax, three new object types, and some new semantics.\n",
    "\n",
    "\n",
    "The simplest form of class definition looks like this:\n",
    "\n",
    "````\n",
    "class ClassName:\n",
    "    <statement-1>\n",
    "    .\n",
    "    .\n",
    "    .\n",
    "    <statement-N>\n",
    "````"
   ]
  },
  {
   "cell_type": "markdown",
   "metadata": {},
   "source": [
    "## Class Objects\n",
    "\n",
    "Class objects support two kinds of operations: attribute references and instantiation.\n",
    "\n",
    "Attribute references use the standard syntax used for all attribute references in Python: obj.name. Valid attribute names are all the names that were in the class’s namespace when the class object was created. So, if the class definition looked like this:\n",
    "\n",
    "```\n",
    "class MyClass:\n",
    "    \"\"\"A simple example class\"\"\"\n",
    "    i = 12345\n",
    "\n",
    "    def f(self):\n",
    "        return 'hello world'\n",
    "````\n",
    "       \n",
    "then `MyClass.i` and `MyClass.f` are valid attribute references, returning an integer and a function object, respectively. \n",
    "\n",
    "\n",
    "Class instantiation uses function notation. Just pretend that the class object is a parameterless function that returns a new instance of the class. For example (assuming the above class):\n",
    "\n",
    "```\n",
    "x = MyClass()\n",
    "```\n",
    "\n",
    "creates a new instance of the class and assigns this object to the local variable x."
   ]
  },
  {
   "cell_type": "markdown",
   "metadata": {},
   "source": [
    "> ### Challenge: \n",
    "> * Set up a class called `MyName`. \n",
    "> * Add an attribute `name` to the class and assign this attribute with your name.\n",
    "> * Add a method `print_name` to it that prints put the value of the attribute `name`"
   ]
  },
  {
   "cell_type": "code",
   "execution_count": null,
   "metadata": {},
   "outputs": [],
   "source": [
    "# %load ../src/_solutions/myname.py"
   ]
  },
  {
   "cell_type": "code",
   "execution_count": null,
   "metadata": {},
   "outputs": [],
   "source": [
    "myname = MyName()\n",
    "myname.print_name()"
   ]
  },
  {
   "cell_type": "markdown",
   "metadata": {},
   "source": [
    "### Instantiation\n",
    "\n",
    "The instantiation operation (“calling” a class object) creates an empty object. Many classes like to create objects with instances customized to a **specific initial state**. Therefore a class may define a special method named `__init__()`, like this:\n",
    "\n",
    "```\n",
    "def __init__(self):\n",
    "    self.data = []\n",
    "```\n",
    "\n",
    "When a class defines an `__init__()` method, class instantiation automatically invokes __init__() for the newly-created class instance. The `__init__()` method may have arguments for greater flexibility. \n",
    "\n",
    "```\n",
    "class AddressBook:\n",
    "     def __init__(self, name, email):\n",
    "         self.name = name\n",
    "         self.email = email\n",
    "```     \n",
    "\n",
    "\n",
    "Now what can we do with instance objects? The only operations understood by instance objects are attribute references. There are two kinds of valid attribute names, data **attributes** and **methods**.\n",
    "\n",
    "\n",
    "\n",
    "```\n",
    "class AddressBook:\n",
    "     def __init__(self, name, email):\n",
    "         self.name = name\n",
    "         self.email = email\n",
    "         \n",
    "     def print_name(self):\n",
    "         print(f'Hi, {self.name}. Your email is {self.email}')\n",
    "```    \n"
   ]
  },
  {
   "cell_type": "code",
   "execution_count": null,
   "metadata": {},
   "outputs": [],
   "source": [
    "class AddressBook:\n",
    "    def __init__(self, name, email):\n",
    "        self.name = name\n",
    "        self.email = email\n",
    "    def print_name(self):\n",
    "        print(f'Hi, {self.name}. Your email is {self.email}')"
   ]
  },
  {
   "cell_type": "markdown",
   "metadata": {},
   "source": [
    "> ### Challenge: \n",
    "> * Create an instance of the `AddressBook` class.\n",
    "> * Print all attributes\n",
    "> * Call the `print_name` function"
   ]
  },
  {
   "cell_type": "code",
   "execution_count": null,
   "metadata": {},
   "outputs": [],
   "source": [
    "# %load ../src/_solutions/addressbook.py"
   ]
  },
  {
   "cell_type": "markdown",
   "metadata": {},
   "source": [
    "## Example: Setting up a bank account \n",
    "\n",
    "> ### Challenge: \n",
    "> * Set up a class called `BankAccount`. \n",
    "> Initialize the class with an variable `customer`. Set further attributes such as `balance`, `__interest`. \n",
    "> * Add a `__str__` method that provides the the customer's name.\n",
    "> * Add a `display` method that prints the current balance.\n",
    "> * Add a `deposit` method that allows to add cash to the bank account.\n",
    "> * Add a `withdraw` method that allows to withdraw cash to the bank account.\n",
    "> * Add an `interest` method that allows to charge an interest rate. Use 1% for a positive balance and 12% for a negative balance.\n",
    "\n"
   ]
  },
  {
   "cell_type": "markdown",
   "metadata": {},
   "source": [
    "The following calls\n",
    "\n",
    "```\n",
    "# Creating an object of class \n",
    "s = Bank_Account('Mickey Mouse') \n",
    "print(s)\n",
    "\n",
    "# Calling functions with that class object \n",
    "s.deposit(1000) \n",
    "s.withdraw(2000) \n",
    "s.interest() \n",
    "s.display()\n",
    "```\n",
    "\n",
    "should return\n",
    "\n",
    "```\n",
    "Hi Mickey Mouse!!! Welcome, your account was created.\n",
    "\n",
    "This is the bank account from Mickey Mouse.\n",
    "\n",
    "Amount Deposited: 1000\n",
    "\n",
    "Insufficient balance, you are in debt!\n",
    "Interest at a rate of 12% was charged.\n",
    "\n",
    "Net Available Balance: -1120.0\n",
    "```"
   ]
  },
  {
   "cell_type": "markdown",
   "metadata": {},
   "source": [
    "## Importing modules"
   ]
  },
  {
   "cell_type": "code",
   "execution_count": null,
   "metadata": {},
   "outputs": [],
   "source": [
    "%load_ext autoreload\n",
    "%autoreload 2"
   ]
  },
  {
   "cell_type": "code",
   "execution_count": null,
   "metadata": {},
   "outputs": [],
   "source": [
    "import os\n",
    "import sys\n",
    "\n",
    "# add the 'src' directory as one where we can import modules\n",
    "src_dir = os.path.abspath(os.path.join(os.getcwd(), os.pardir, 'src'))\n",
    "sys.path.append(src_dir)\n",
    "print(src_dir)"
   ]
  },
  {
   "cell_type": "code",
   "execution_count": null,
   "metadata": {},
   "outputs": [],
   "source": [
    "import bank_account_script"
   ]
  },
  {
   "cell_type": "code",
   "execution_count": null,
   "metadata": {},
   "outputs": [],
   "source": [
    "import bank_account_module"
   ]
  },
  {
   "cell_type": "code",
   "execution_count": null,
   "metadata": {},
   "outputs": [],
   "source": [
    "bankaccount = bank_account_module.Bank_Account(customer='eotp')"
   ]
  },
  {
   "cell_type": "markdown",
   "metadata": {},
   "source": [
    "***"
   ]
  }
 ],
 "metadata": {
  "kernelspec": {
   "display_name": "Python 3",
   "language": "python",
   "name": "python3"
  },
  "language_info": {
   "codemirror_mode": {
    "name": "ipython",
    "version": 3
   },
   "file_extension": ".py",
   "mimetype": "text/x-python",
   "name": "python",
   "nbconvert_exporter": "python",
   "pygments_lexer": "ipython3",
   "version": "3.7.3"
  }
 },
 "nbformat": 4,
 "nbformat_minor": 4
}
